{
 "cells": [
  {
   "cell_type": "markdown",
   "id": "ba4d383a",
   "metadata": {},
   "source": [
    "# Generate OTP using Python"
   ]
  },
  {
   "cell_type": "code",
   "execution_count": 4,
   "id": "8f102c51",
   "metadata": {},
   "outputs": [],
   "source": [
    "# import random library\n",
    "import random"
   ]
  },
  {
   "cell_type": "code",
   "execution_count": 8,
   "id": "1b996641",
   "metadata": {},
   "outputs": [],
   "source": [
    "otp = ''.join([str(random.randint(0,9)) for i in range(12)])"
   ]
  },
  {
   "cell_type": "code",
   "execution_count": 9,
   "id": "6527bdc3",
   "metadata": {},
   "outputs": [
    {
     "data": {
      "text/plain": [
       "'823731388714'"
      ]
     },
     "execution_count": 9,
     "metadata": {},
     "output_type": "execute_result"
    }
   ],
   "source": [
    "otp"
   ]
  },
  {
   "cell_type": "code",
   "execution_count": 10,
   "id": "d47a52df",
   "metadata": {},
   "outputs": [
    {
     "data": {
      "text/plain": [
       "'823731388714'"
      ]
     },
     "execution_count": 10,
     "metadata": {},
     "output_type": "execute_result"
    }
   ],
   "source": [
    "otp"
   ]
  },
  {
   "cell_type": "code",
   "execution_count": 11,
   "id": "234f9a18",
   "metadata": {},
   "outputs": [],
   "source": [
    "anand=''.join([str(random.randint(0,9)) for i in range(10)])"
   ]
  },
  {
   "cell_type": "code",
   "execution_count": 12,
   "id": "cef26a29",
   "metadata": {},
   "outputs": [
    {
     "data": {
      "text/plain": [
       "'3764840500'"
      ]
     },
     "execution_count": 12,
     "metadata": {},
     "output_type": "execute_result"
    }
   ],
   "source": [
    "anand"
   ]
  },
  {
   "cell_type": "code",
   "execution_count": null,
   "id": "67d33c90",
   "metadata": {},
   "outputs": [],
   "source": []
  }
 ],
 "metadata": {
  "kernelspec": {
   "display_name": "Python 3 (ipykernel)",
   "language": "python",
   "name": "python3"
  },
  "language_info": {
   "codemirror_mode": {
    "name": "ipython",
    "version": 3
   },
   "file_extension": ".py",
   "mimetype": "text/x-python",
   "name": "python",
   "nbconvert_exporter": "python",
   "pygments_lexer": "ipython3",
   "version": "3.9.7"
  }
 },
 "nbformat": 4,
 "nbformat_minor": 5
}
