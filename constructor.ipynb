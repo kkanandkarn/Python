{
 "cells": [
  {
   "cell_type": "code",
   "execution_count": 1,
   "id": "2f45c242",
   "metadata": {},
   "outputs": [],
   "source": [
    "#constructor\n",
    "#with the help of constructor we can assign the value at the time of object creation\n",
    "# __init__method is used to define constructor"
   ]
  },
  {
   "cell_type": "code",
   "execution_count": 3,
   "id": "74452565",
   "metadata": {},
   "outputs": [],
   "source": [
    "class Employee:\n",
    "    def __init__(self,name,age,salary,gender):\n",
    "        self.name=name\n",
    "        self.age=age\n",
    "        self.salary=salary\n",
    "        self.gender=gender\n",
    "        \n",
    "    def employee_details(self):\n",
    "        print('Name of employee is:',self.name)\n",
    "        print('Age of employee is:',self.age)\n",
    "        print('Salary of employee is:',self.salary)\n",
    "        print('Gender of employee is:',self.gender)"
   ]
  },
  {
   "cell_type": "code",
   "execution_count": 4,
   "id": "499378b4",
   "metadata": {},
   "outputs": [],
   "source": [
    "#instantiating the e1 object\n",
    "e1 = Employee('Anand',20,82000,'Male')"
   ]
  },
  {
   "cell_type": "code",
   "execution_count": 5,
   "id": "c38473b1",
   "metadata": {},
   "outputs": [
    {
     "name": "stdout",
     "output_type": "stream",
     "text": [
      "Name of employee is: Anand\n",
      "Age of employee is: 20\n",
      "Salary of employee is: 82000\n",
      "Gender of employee is: Male\n"
     ]
    }
   ],
   "source": [
    "#invoking the employee details method\n",
    "e1.employee_details()"
   ]
  },
  {
   "cell_type": "code",
   "execution_count": 6,
   "id": "408c473b",
   "metadata": {},
   "outputs": [],
   "source": [
    "#non parameterized constructor\n",
    "class student:\n",
    "    def __init__(self):\n",
    "        print('non parameterized character')\n",
    "    def "
   ]
  },
  {
   "cell_type": "code",
   "execution_count": 7,
   "id": "6592ecb8",
   "metadata": {},
   "outputs": [
    {
     "name": "stdout",
     "output_type": "stream",
     "text": [
      "non parameterized character\n"
     ]
    }
   ],
   "source": [
    "s1= student()"
   ]
  },
  {
   "cell_type": "code",
   "execution_count": 8,
   "id": "a9c47eae",
   "metadata": {},
   "outputs": [],
   "source": [
    "# parameterized constructor\n",
    "class Student:\n",
    "    def __init__(self,name):\n",
    "        print('parameterized constructor')\n",
    "        self.name=name\n",
    "    \n",
    "    def show(self):\n",
    "        print('Hello',self.name)"
   ]
  },
  {
   "cell_type": "code",
   "execution_count": 11,
   "id": "57601855",
   "metadata": {},
   "outputs": [
    {
     "name": "stdout",
     "output_type": "stream",
     "text": [
      "parameterized constructor\n",
      "Hello Anand\n"
     ]
    }
   ],
   "source": [
    "s1=Student('Anand')\n",
    "s1.show()"
   ]
  },
  {
   "cell_type": "code",
   "execution_count": null,
   "id": "d2fd667f",
   "metadata": {},
   "outputs": [],
   "source": []
  }
 ],
 "metadata": {
  "kernelspec": {
   "display_name": "Python 3 (ipykernel)",
   "language": "python",
   "name": "python3"
  },
  "language_info": {
   "codemirror_mode": {
    "name": "ipython",
    "version": 3
   },
   "file_extension": ".py",
   "mimetype": "text/x-python",
   "name": "python",
   "nbconvert_exporter": "python",
   "pygments_lexer": "ipython3",
   "version": "3.9.7"
  }
 },
 "nbformat": 4,
 "nbformat_minor": 5
}
