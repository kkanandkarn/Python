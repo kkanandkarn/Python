{
 "cells": [
  {
   "cell_type": "code",
   "execution_count": 3,
   "id": "c667e43c",
   "metadata": {},
   "outputs": [],
   "source": [
    "#creating a function without parameter\n",
    "def hello():\n",
    "    print('hello')"
   ]
  },
  {
   "cell_type": "code",
   "execution_count": 4,
   "id": "8ac9ceef",
   "metadata": {},
   "outputs": [
    {
     "name": "stdout",
     "output_type": "stream",
     "text": [
      "hello\n"
     ]
    }
   ],
   "source": [
    "#calling or invoking function\n",
    "hello()"
   ]
  },
  {
   "cell_type": "code",
   "execution_count": 15,
   "id": "f8c6ad53",
   "metadata": {},
   "outputs": [],
   "source": [
    "#creating a function with parameter\n",
    "def func(name):\n",
    "    print('hello',name)"
   ]
  },
  {
   "cell_type": "code",
   "execution_count": 16,
   "id": "6dfcaf31",
   "metadata": {},
   "outputs": [
    {
     "name": "stdout",
     "output_type": "stream",
     "text": [
      "hello Anand\n"
     ]
    }
   ],
   "source": [
    "func('Anand')"
   ]
  },
  {
   "cell_type": "code",
   "execution_count": 17,
   "id": "aa504826",
   "metadata": {},
   "outputs": [],
   "source": [
    "def add(x,y):\n",
    "    return x+y"
   ]
  },
  {
   "cell_type": "code",
   "execution_count": 18,
   "id": "a6c255b6",
   "metadata": {},
   "outputs": [
    {
     "data": {
      "text/plain": [
       "9"
      ]
     },
     "execution_count": 18,
     "metadata": {},
     "output_type": "execute_result"
    }
   ],
   "source": [
    "add(5,4)"
   ]
  },
  {
   "cell_type": "code",
   "execution_count": 19,
   "id": "e99e7fe9",
   "metadata": {},
   "outputs": [
    {
     "data": {
      "text/plain": [
       "115.0"
      ]
     },
     "execution_count": 19,
     "metadata": {},
     "output_type": "execute_result"
    }
   ],
   "source": [
    "add(52.4,62.6)"
   ]
  },
  {
   "cell_type": "code",
   "execution_count": 23,
   "id": "625247cb",
   "metadata": {},
   "outputs": [],
   "source": [
    "#creating a function to check either number is even or odd\n",
    "def even_odd(number):\n",
    "    if number%2==0:\n",
    "        print(number, 'is even')\n",
    "    else:\n",
    "        print(number, 'is odd')"
   ]
  },
  {
   "cell_type": "code",
   "execution_count": 24,
   "id": "9acad01f",
   "metadata": {},
   "outputs": [
    {
     "name": "stdout",
     "output_type": "stream",
     "text": [
      "15 is odd\n"
     ]
    }
   ],
   "source": [
    "even_odd(15)"
   ]
  },
  {
   "cell_type": "code",
   "execution_count": 25,
   "id": "91a854fb",
   "metadata": {},
   "outputs": [
    {
     "name": "stdout",
     "output_type": "stream",
     "text": [
      "12 is even\n"
     ]
    }
   ],
   "source": [
    "even_odd(12)"
   ]
  },
  {
   "cell_type": "code",
   "execution_count": 26,
   "id": "ce3f7f16",
   "metadata": {},
   "outputs": [
    {
     "name": "stdout",
     "output_type": "stream",
     "text": [
      "52.3 is odd\n"
     ]
    }
   ],
   "source": [
    "# checking if it is valid for float value or not\n",
    "even_odd(52.3)"
   ]
  },
  {
   "cell_type": "code",
   "execution_count": 27,
   "id": "62d8f733",
   "metadata": {},
   "outputs": [
    {
     "name": "stdout",
     "output_type": "stream",
     "text": [
      "22.4 is odd\n"
     ]
    }
   ],
   "source": [
    "even_odd(22.4)"
   ]
  },
  {
   "cell_type": "code",
   "execution_count": 28,
   "id": "7c5af611",
   "metadata": {},
   "outputs": [],
   "source": [
    "#lambda function is a special type of a function which is also known as anonymous function which means it doesn't have name\n",
    "# this function has only one expression"
   ]
  },
  {
   "cell_type": "code",
   "execution_count": 30,
   "id": "3076592d",
   "metadata": {},
   "outputs": [],
   "source": [
    "cube=lambda x:x*x*x\n",
    "#in lambda x, x is parameter and x*x*x is expression"
   ]
  },
  {
   "cell_type": "code",
   "execution_count": 31,
   "id": "00384e7d",
   "metadata": {},
   "outputs": [
    {
     "data": {
      "text/plain": [
       "125"
      ]
     },
     "execution_count": 31,
     "metadata": {},
     "output_type": "execute_result"
    }
   ],
   "source": [
    "cube(5)"
   ]
  },
  {
   "cell_type": "code",
   "execution_count": 32,
   "id": "04a547e3",
   "metadata": {},
   "outputs": [],
   "source": [
    "#Normally lambda function is used with some other function. Those functions are known as filters,reduce and map function"
   ]
  },
  {
   "cell_type": "code",
   "execution_count": 33,
   "id": "a12eec77",
   "metadata": {},
   "outputs": [],
   "source": [
    "#lambda with filter (filter values from a sequence)\n",
    "#it takes two parameters function and list"
   ]
  },
  {
   "cell_type": "code",
   "execution_count": 34,
   "id": "1b9cb2ee",
   "metadata": {},
   "outputs": [],
   "source": [
    "#filter out odd values\n",
    "l1=[10,25,32,56,78,98,45,2,1,4,56]\n",
    "l2=list(filter(lambda x: (x%2!=0),l1))\n",
    "#with the help of list function we are converting the output into list"
   ]
  },
  {
   "cell_type": "code",
   "execution_count": 35,
   "id": "344ea700",
   "metadata": {},
   "outputs": [
    {
     "data": {
      "text/plain": [
       "[25, 45, 1]"
      ]
     },
     "execution_count": 35,
     "metadata": {},
     "output_type": "execute_result"
    }
   ],
   "source": [
    "l2"
   ]
  },
  {
   "cell_type": "code",
   "execution_count": 36,
   "id": "1804e306",
   "metadata": {},
   "outputs": [],
   "source": [
    "#filter out even values\n",
    "l1=[10,25,32,56,78,98,45,2,1,4,56]\n",
    "l2=list(filter(lambda x: (x%2==0),l1))"
   ]
  },
  {
   "cell_type": "code",
   "execution_count": 37,
   "id": "cdfd6d57",
   "metadata": {},
   "outputs": [
    {
     "data": {
      "text/plain": [
       "[10, 32, 56, 78, 98, 2, 4, 56]"
      ]
     },
     "execution_count": 37,
     "metadata": {},
     "output_type": "execute_result"
    }
   ],
   "source": [
    "l2"
   ]
  },
  {
   "cell_type": "code",
   "execution_count": 38,
   "id": "c5887461",
   "metadata": {},
   "outputs": [],
   "source": [
    "#lambda with map"
   ]
  },
  {
   "cell_type": "code",
   "execution_count": 39,
   "id": "b437ca76",
   "metadata": {},
   "outputs": [],
   "source": [
    "l1=[1,2,3,4,5,6,7,8]"
   ]
  },
  {
   "cell_type": "code",
   "execution_count": 40,
   "id": "f1b09b2e",
   "metadata": {},
   "outputs": [],
   "source": [
    "#map function is used to mapping a task at every indivisual elements\n",
    "#it takes two parameters\n",
    "#first parameter would be lambda function second would be list"
   ]
  },
  {
   "cell_type": "code",
   "execution_count": 42,
   "id": "fda6105c",
   "metadata": {},
   "outputs": [],
   "source": [
    "#multiplying by 2 at every element\n",
    "l2=list(map(lambda x:x*2,l1))"
   ]
  },
  {
   "cell_type": "code",
   "execution_count": 43,
   "id": "60a5802f",
   "metadata": {},
   "outputs": [
    {
     "data": {
      "text/plain": [
       "[2, 4, 6, 8, 10, 12, 14, 16]"
      ]
     },
     "execution_count": 43,
     "metadata": {},
     "output_type": "execute_result"
    }
   ],
   "source": [
    "l2"
   ]
  },
  {
   "cell_type": "code",
   "execution_count": 44,
   "id": "83e6df2a",
   "metadata": {},
   "outputs": [],
   "source": [
    "#lambda with reduce\n",
    "#it is used with func tools and we have to import it from functools\n",
    "#reduce function is used when we need a consolidated value or final value at a squence"
   ]
  },
  {
   "cell_type": "code",
   "execution_count": 45,
   "id": "05bba993",
   "metadata": {},
   "outputs": [],
   "source": [
    "from functools import reduce"
   ]
  },
  {
   "cell_type": "code",
   "execution_count": 48,
   "id": "7b331994",
   "metadata": {},
   "outputs": [],
   "source": [
    "final=reduce(lambda x,y: x+y,l1)"
   ]
  },
  {
   "cell_type": "code",
   "execution_count": 49,
   "id": "174d4f7f",
   "metadata": {},
   "outputs": [
    {
     "data": {
      "text/plain": [
       "36"
      ]
     },
     "execution_count": 49,
     "metadata": {},
     "output_type": "execute_result"
    }
   ],
   "source": [
    "#1+2=3,3+3=6,6+4=10,10+5=15,15+6=21,21+7=28,28+8=36\n",
    "final"
   ]
  },
  {
   "cell_type": "code",
   "execution_count": 50,
   "id": "746633b2",
   "metadata": {},
   "outputs": [],
   "source": [
    "#predefined or built-in functions in python"
   ]
  },
  {
   "cell_type": "code",
   "execution_count": 51,
   "id": "c7691414",
   "metadata": {},
   "outputs": [],
   "source": [
    "# 1. sum : it is used to get the sum of numbers of an iterable i.e list"
   ]
  },
  {
   "cell_type": "code",
   "execution_count": 52,
   "id": "5ea391b4",
   "metadata": {},
   "outputs": [
    {
     "ename": "TypeError",
     "evalue": "'int' object is not iterable",
     "output_type": "error",
     "traceback": [
      "\u001b[1;31m---------------------------------------------------------------------------\u001b[0m",
      "\u001b[1;31mTypeError\u001b[0m                                 Traceback (most recent call last)",
      "\u001b[1;32m~\\AppData\\Local\\Temp/ipykernel_2508/1126478866.py\u001b[0m in \u001b[0;36m<module>\u001b[1;34m\u001b[0m\n\u001b[1;32m----> 1\u001b[1;33m \u001b[0msum\u001b[0m\u001b[1;33m(\u001b[0m\u001b[1;36m5\u001b[0m\u001b[1;33m,\u001b[0m\u001b[1;36m6\u001b[0m\u001b[1;33m)\u001b[0m\u001b[1;33m\u001b[0m\u001b[1;33m\u001b[0m\u001b[0m\n\u001b[0m",
      "\u001b[1;31mTypeError\u001b[0m: 'int' object is not iterable"
     ]
    }
   ],
   "source": [
    "sum(5,6)\n",
    "#we have to give iterable values"
   ]
  },
  {
   "cell_type": "code",
   "execution_count": 53,
   "id": "29198ff2",
   "metadata": {},
   "outputs": [
    {
     "data": {
      "text/plain": [
       "10"
      ]
     },
     "execution_count": 53,
     "metadata": {},
     "output_type": "execute_result"
    }
   ],
   "source": [
    "sum([5,3,2])"
   ]
  },
  {
   "cell_type": "code",
   "execution_count": 54,
   "id": "d3339e1e",
   "metadata": {},
   "outputs": [
    {
     "data": {
      "text/plain": [
       "20"
      ]
     },
     "execution_count": 54,
     "metadata": {},
     "output_type": "execute_result"
    }
   ],
   "source": [
    "sum([5,2,3],10)"
   ]
  },
  {
   "cell_type": "code",
   "execution_count": 55,
   "id": "3e8d560a",
   "metadata": {},
   "outputs": [
    {
     "name": "stdout",
     "output_type": "stream",
     "text": [
      "9\n"
     ]
    }
   ],
   "source": [
    "#gives you independence to enter any value of any data type\n",
    "x=8\n",
    "print(eval('x+1'))"
   ]
  },
  {
   "cell_type": "code",
   "execution_count": 56,
   "id": "65b7efda",
   "metadata": {},
   "outputs": [
    {
     "name": "stdout",
     "output_type": "stream",
     "text": [
      "Emter first number:2\n",
      "Enter second number4\n",
      "sum is: 6\n"
     ]
    }
   ],
   "source": [
    "num1=int(input(\"Emter first number:\"))\n",
    "num2=int(input(\"Enter second number\"))\n",
    "print('sum is:',num1+num2)"
   ]
  },
  {
   "cell_type": "code",
   "execution_count": 58,
   "id": "f8ea8576",
   "metadata": {},
   "outputs": [
    {
     "name": "stdout",
     "output_type": "stream",
     "text": [
      "Emter first number:23\n",
      "Enter second number52.4\n"
     ]
    },
    {
     "ename": "ValueError",
     "evalue": "invalid literal for int() with base 10: '52.4'",
     "output_type": "error",
     "traceback": [
      "\u001b[1;31m---------------------------------------------------------------------------\u001b[0m",
      "\u001b[1;31mValueError\u001b[0m                                Traceback (most recent call last)",
      "\u001b[1;32m~\\AppData\\Local\\Temp/ipykernel_2508/1169756408.py\u001b[0m in \u001b[0;36m<module>\u001b[1;34m\u001b[0m\n\u001b[0;32m      1\u001b[0m \u001b[1;31m#integer type cannot take float value\u001b[0m\u001b[1;33m\u001b[0m\u001b[1;33m\u001b[0m\u001b[0m\n\u001b[0;32m      2\u001b[0m \u001b[0mnum1\u001b[0m\u001b[1;33m=\u001b[0m\u001b[0mint\u001b[0m\u001b[1;33m(\u001b[0m\u001b[0minput\u001b[0m\u001b[1;33m(\u001b[0m\u001b[1;34m\"Emter first number:\"\u001b[0m\u001b[1;33m)\u001b[0m\u001b[1;33m)\u001b[0m\u001b[1;33m\u001b[0m\u001b[1;33m\u001b[0m\u001b[0m\n\u001b[1;32m----> 3\u001b[1;33m \u001b[0mnum2\u001b[0m\u001b[1;33m=\u001b[0m\u001b[0mint\u001b[0m\u001b[1;33m(\u001b[0m\u001b[0minput\u001b[0m\u001b[1;33m(\u001b[0m\u001b[1;34m\"Enter second number\"\u001b[0m\u001b[1;33m)\u001b[0m\u001b[1;33m)\u001b[0m\u001b[1;33m\u001b[0m\u001b[1;33m\u001b[0m\u001b[0m\n\u001b[0m\u001b[0;32m      4\u001b[0m \u001b[0mprint\u001b[0m\u001b[1;33m(\u001b[0m\u001b[1;34m'sum is:'\u001b[0m\u001b[1;33m,\u001b[0m\u001b[0mnum1\u001b[0m\u001b[1;33m+\u001b[0m\u001b[0mnum2\u001b[0m\u001b[1;33m)\u001b[0m\u001b[1;33m\u001b[0m\u001b[1;33m\u001b[0m\u001b[0m\n",
      "\u001b[1;31mValueError\u001b[0m: invalid literal for int() with base 10: '52.4'"
     ]
    }
   ],
   "source": [
    "#integer type cannot take float value\n",
    "num1=int(input(\"Emter first number:\"))\n",
    "num2=int(input(\"Enter second number\"))\n",
    "print('sum is:',num1+num2)"
   ]
  },
  {
   "cell_type": "code",
   "execution_count": 59,
   "id": "6ce8f12b",
   "metadata": {},
   "outputs": [
    {
     "name": "stdout",
     "output_type": "stream",
     "text": [
      "Emter first number:25\n",
      "Enter second number32.6\n",
      "sum is: 57.6\n"
     ]
    }
   ],
   "source": [
    "#taking float value\n",
    "num1=int(input(\"Emter first number:\"))\n",
    "num2=float(input(\"Enter second number\"))\n",
    "print('sum is:',num1+num2)"
   ]
  },
  {
   "cell_type": "code",
   "execution_count": 60,
   "id": "9feeb80f",
   "metadata": {},
   "outputs": [
    {
     "name": "stdout",
     "output_type": "stream",
     "text": [
      "Emter first number:22.4\n",
      "Enter second number32.6\n",
      "sum is: 55.0\n"
     ]
    }
   ],
   "source": [
    "#using eval function\n",
    "num1=eval(input(\"Emter first number:\"))\n",
    "num2=eval(input(\"Enter second number\"))\n",
    "print('sum is:',num1+num2)"
   ]
  },
  {
   "cell_type": "code",
   "execution_count": 61,
   "id": "394840c5",
   "metadata": {},
   "outputs": [],
   "source": [
    "#length function\n",
    "string='Python'"
   ]
  },
  {
   "cell_type": "code",
   "execution_count": 62,
   "id": "b3dd3070",
   "metadata": {},
   "outputs": [
    {
     "data": {
      "text/plain": [
       "6"
      ]
     },
     "execution_count": 62,
     "metadata": {},
     "output_type": "execute_result"
    }
   ],
   "source": [
    "len(string)"
   ]
  },
  {
   "cell_type": "code",
   "execution_count": 63,
   "id": "4fcbf653",
   "metadata": {},
   "outputs": [
    {
     "name": "stdout",
     "output_type": "stream",
     "text": [
      "['a', 'b', 'c', 'd', 'e']\n"
     ]
    }
   ],
   "source": [
    "#list function\n",
    "string='abcde'\n",
    "print(list(string))"
   ]
  },
  {
   "cell_type": "code",
   "execution_count": 64,
   "id": "75f6a31d",
   "metadata": {},
   "outputs": [
    {
     "name": "stdout",
     "output_type": "stream",
     "text": [
      "[1, 2, 3, 4, 5]\n"
     ]
    }
   ],
   "source": [
    "#converting tuple to list using list function\n",
    "tup1=(1,2,3,4,5)\n",
    "print(list(tup1))"
   ]
  },
  {
   "cell_type": "code",
   "execution_count": 65,
   "id": "9424f44f",
   "metadata": {},
   "outputs": [
    {
     "data": {
      "text/plain": [
       "{'a': 1, 'b': 2}"
      ]
     },
     "execution_count": 65,
     "metadata": {},
     "output_type": "execute_result"
    }
   ],
   "source": [
    "#dictionary function\n",
    "dict1=dict(a=1,b=2)\n",
    "dict1"
   ]
  },
  {
   "cell_type": "code",
   "execution_count": 66,
   "id": "320be821",
   "metadata": {},
   "outputs": [
    {
     "data": {
      "text/plain": [
       "200"
      ]
     },
     "execution_count": 66,
     "metadata": {},
     "output_type": "execute_result"
    }
   ],
   "source": [
    "#min function \n",
    "min(500,200,300)"
   ]
  },
  {
   "cell_type": "code",
   "execution_count": 67,
   "id": "d54737ac",
   "metadata": {},
   "outputs": [
    {
     "data": {
      "text/plain": [
       "2268102560880"
      ]
     },
     "execution_count": 67,
     "metadata": {},
     "output_type": "execute_result"
    }
   ],
   "source": [
    "#id function\n",
    "val=id('Python')\n",
    "val"
   ]
  },
  {
   "cell_type": "code",
   "execution_count": 68,
   "id": "9ac48c33",
   "metadata": {},
   "outputs": [],
   "source": [
    "val=id('Python')"
   ]
  },
  {
   "cell_type": "code",
   "execution_count": 69,
   "id": "97fc1d53",
   "metadata": {},
   "outputs": [
    {
     "data": {
      "text/plain": [
       "2268102560880"
      ]
     },
     "execution_count": 69,
     "metadata": {},
     "output_type": "execute_result"
    }
   ],
   "source": [
    "val"
   ]
  },
  {
   "cell_type": "code",
   "execution_count": 70,
   "id": "bdb713b4",
   "metadata": {},
   "outputs": [
    {
     "name": "stdout",
     "output_type": "stream",
     "text": [
      "10\n"
     ]
    }
   ],
   "source": [
    "#round function\n",
    "print(round(10))"
   ]
  },
  {
   "cell_type": "code",
   "execution_count": 71,
   "id": "066673da",
   "metadata": {},
   "outputs": [
    {
     "name": "stdout",
     "output_type": "stream",
     "text": [
      "10\n"
     ]
    }
   ],
   "source": [
    "print(round(10.2))"
   ]
  },
  {
   "cell_type": "code",
   "execution_count": 72,
   "id": "ded716d9",
   "metadata": {},
   "outputs": [
    {
     "name": "stdout",
     "output_type": "stream",
     "text": [
      "11\n"
     ]
    }
   ],
   "source": [
    "print(round(10.6))"
   ]
  },
  {
   "cell_type": "code",
   "execution_count": null,
   "id": "710e19a0",
   "metadata": {},
   "outputs": [],
   "source": []
  }
 ],
 "metadata": {
  "kernelspec": {
   "display_name": "Python 3 (ipykernel)",
   "language": "python",
   "name": "python3"
  },
  "language_info": {
   "codemirror_mode": {
    "name": "ipython",
    "version": 3
   },
   "file_extension": ".py",
   "mimetype": "text/x-python",
   "name": "python",
   "nbconvert_exporter": "python",
   "pygments_lexer": "ipython3",
   "version": "3.9.7"
  }
 },
 "nbformat": 4,
 "nbformat_minor": 5
}
