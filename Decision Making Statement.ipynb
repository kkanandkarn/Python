{
 "cells": [
  {
   "cell_type": "code",
   "execution_count": 1,
   "id": "6d315c4c",
   "metadata": {},
   "outputs": [],
   "source": [
    "a=10\n",
    "b=20"
   ]
  },
  {
   "cell_type": "code",
   "execution_count": 2,
   "id": "947e9c55",
   "metadata": {},
   "outputs": [
    {
     "data": {
      "text/plain": [
       "(10, 20)"
      ]
     },
     "execution_count": 2,
     "metadata": {},
     "output_type": "execute_result"
    }
   ],
   "source": [
    "a,b"
   ]
  },
  {
   "cell_type": "code",
   "execution_count": 3,
   "id": "3f35e28b",
   "metadata": {},
   "outputs": [
    {
     "name": "stdout",
     "output_type": "stream",
     "text": [
      "b is greater than a\n"
     ]
    }
   ],
   "source": [
    "if b>a:\n",
    "    print(\"b is greater than a\")"
   ]
  },
  {
   "cell_type": "code",
   "execution_count": 4,
   "id": "e74b2c8f",
   "metadata": {},
   "outputs": [
    {
     "ename": "SyntaxError",
     "evalue": "invalid syntax (Temp/ipykernel_6772/983774255.py, line 3)",
     "output_type": "error",
     "traceback": [
      "\u001b[1;36m  File \u001b[1;32m\"C:\\Users\\Hp\\AppData\\Local\\Temp/ipykernel_6772/983774255.py\"\u001b[1;36m, line \u001b[1;32m3\u001b[0m\n\u001b[1;33m    else\u001b[0m\n\u001b[1;37m        ^\u001b[0m\n\u001b[1;31mSyntaxError\u001b[0m\u001b[1;31m:\u001b[0m invalid syntax\n"
     ]
    }
   ],
   "source": [
    "if a>b:\n",
    "    printf(\"a is greater than b\")\n",
    "else\n",
    "    print('b is greater than a')"
   ]
  },
  {
   "cell_type": "code",
   "execution_count": 5,
   "id": "e352d715",
   "metadata": {},
   "outputs": [
    {
     "name": "stdout",
     "output_type": "stream",
     "text": [
      "b is greater than a\n"
     ]
    }
   ],
   "source": [
    "if a>b:\n",
    "    printf(\"a is greater than b\")\n",
    "else:\n",
    "    print('b is greater than a')"
   ]
  },
  {
   "cell_type": "code",
   "execution_count": 6,
   "id": "59b0286a",
   "metadata": {},
   "outputs": [],
   "source": [
    "a=10\n",
    "b=20\n",
    "c=30"
   ]
  },
  {
   "cell_type": "code",
   "execution_count": 9,
   "id": "dce74d31",
   "metadata": {},
   "outputs": [
    {
     "name": "stdout",
     "output_type": "stream",
     "text": [
      "c is greatest\n"
     ]
    }
   ],
   "source": [
    "if (a>b) & (a>c):\n",
    "    print('a is larger')\n",
    "elif(b>a) & (b>c):\n",
    "    print('b is greatest')\n",
    "else:\n",
    "    print('c is greatest')"
   ]
  },
  {
   "cell_type": "code",
   "execution_count": 10,
   "id": "62b695d1",
   "metadata": {},
   "outputs": [],
   "source": [
    "#if with tuple"
   ]
  },
  {
   "cell_type": "code",
   "execution_count": 11,
   "id": "bd40a2c8",
   "metadata": {},
   "outputs": [],
   "source": [
    " tup1 = ('a','b','c')"
   ]
  },
  {
   "cell_type": "code",
   "execution_count": 12,
   "id": "b8f6c20f",
   "metadata": {},
   "outputs": [
    {
     "name": "stdout",
     "output_type": "stream",
     "text": [
      "a is in tuple\n"
     ]
    }
   ],
   "source": [
    "if 'a' in tup1:\n",
    "    print(\"a is in tuple\")\n",
    "else:\n",
    "    print('a is not in tuple')"
   ]
  },
  {
   "cell_type": "code",
   "execution_count": 13,
   "id": "21edf6ba",
   "metadata": {},
   "outputs": [],
   "source": [
    "l1=[1,2,3,'a']"
   ]
  },
  {
   "cell_type": "code",
   "execution_count": 14,
   "id": "2d80b1f2",
   "metadata": {},
   "outputs": [
    {
     "name": "stdout",
     "output_type": "stream",
     "text": [
      "1 is in list\n"
     ]
    }
   ],
   "source": [
    "if 1 in l1:\n",
    "    print('1 is in list')\n",
    "else:\n",
    "    print('1 is not in list')"
   ]
  },
  {
   "cell_type": "code",
   "execution_count": 15,
   "id": "b8cde511",
   "metadata": {},
   "outputs": [
    {
     "name": "stdout",
     "output_type": "stream",
     "text": [
      "1 is not in list\n"
     ]
    }
   ],
   "source": [
    "if 4 in l1:\n",
    "    print('1 is in list')\n",
    "else:\n",
    "    print('1 is not in list')"
   ]
  },
  {
   "cell_type": "code",
   "execution_count": 16,
   "id": "4f133e98",
   "metadata": {},
   "outputs": [
    {
     "name": "stdout",
     "output_type": "stream",
     "text": [
      "1 is in list\n"
     ]
    }
   ],
   "source": [
    "if 'a' in l1:\n",
    "    print('1 is in list')\n",
    "else:\n",
    "    print('1 is not in list')"
   ]
  },
  {
   "cell_type": "code",
   "execution_count": 17,
   "id": "3180fe94",
   "metadata": {},
   "outputs": [
    {
     "name": "stdout",
     "output_type": "stream",
     "text": [
      "1 is not in list\n"
     ]
    }
   ],
   "source": [
    "if a in l1:\n",
    "    print('1 is in list')\n",
    "else:\n",
    "    print('1 is not in list')"
   ]
  },
  {
   "cell_type": "code",
   "execution_count": 18,
   "id": "fa86644d",
   "metadata": {},
   "outputs": [],
   "source": [
    "d1={'a':1,'b':2}"
   ]
  },
  {
   "cell_type": "code",
   "execution_count": 20,
   "id": "cc201445",
   "metadata": {},
   "outputs": [
    {
     "name": "stdout",
     "output_type": "stream",
     "text": [
      "a is in dict\n"
     ]
    }
   ],
   "source": [
    "if 'a' in d1:\n",
    "    print('a is in dict')\n",
    "else:\n",
    "    print('a is not in dict')"
   ]
  },
  {
   "cell_type": "code",
   "execution_count": 21,
   "id": "0e7a7e39",
   "metadata": {},
   "outputs": [
    {
     "data": {
      "text/plain": [
       "[1, 2, 3, 'a']"
      ]
     },
     "execution_count": 21,
     "metadata": {},
     "output_type": "execute_result"
    }
   ],
   "source": [
    "l1"
   ]
  },
  {
   "cell_type": "code",
   "execution_count": 22,
   "id": "acef9d81",
   "metadata": {},
   "outputs": [
    {
     "data": {
      "text/plain": [
       "2"
      ]
     },
     "execution_count": 22,
     "metadata": {},
     "output_type": "execute_result"
    }
   ],
   "source": [
    "l1[1]"
   ]
  },
  {
   "cell_type": "code",
   "execution_count": 28,
   "id": "ca0184b2",
   "metadata": {},
   "outputs": [
    {
     "name": "stdout",
     "output_type": "stream",
     "text": [
      "not present\n"
     ]
    }
   ],
   "source": [
    "if l1[1]==2:\n",
    "    l1[1]=6\n",
    "else:\n",
    "    print('not present')"
   ]
  },
  {
   "cell_type": "code",
   "execution_count": 29,
   "id": "bb62a5e4",
   "metadata": {},
   "outputs": [
    {
     "data": {
      "text/plain": [
       "[1, 6, 3, 'a']"
      ]
     },
     "execution_count": 29,
     "metadata": {},
     "output_type": "execute_result"
    }
   ],
   "source": [
    "l1"
   ]
  },
  {
   "cell_type": "code",
   "execution_count": 30,
   "id": "152dd8c2",
   "metadata": {},
   "outputs": [
    {
     "ename": "NameError",
     "evalue": "name 'i' is not defined",
     "output_type": "error",
     "traceback": [
      "\u001b[1;31m---------------------------------------------------------------------------\u001b[0m",
      "\u001b[1;31mNameError\u001b[0m                                 Traceback (most recent call last)",
      "\u001b[1;32m~\\AppData\\Local\\Temp/ipykernel_6772/3586048424.py\u001b[0m in \u001b[0;36m<module>\u001b[1;34m\u001b[0m\n\u001b[1;32m----> 1\u001b[1;33m \u001b[1;32mif\u001b[0m \u001b[0ml1\u001b[0m\u001b[1;33m[\u001b[0m\u001b[0mi\u001b[0m\u001b[1;33m]\u001b[0m\u001b[1;33m==\u001b[0m\u001b[1;36m6\u001b[0m\u001b[1;33m:\u001b[0m\u001b[1;33m\u001b[0m\u001b[1;33m\u001b[0m\u001b[0m\n\u001b[0m\u001b[0;32m      2\u001b[0m     \u001b[0ml1\u001b[0m\u001b[1;33m[\u001b[0m\u001b[0mi\u001b[0m\u001b[1;33m]\u001b[0m\u001b[1;33m=\u001b[0m\u001b[1;36m5\u001b[0m\u001b[1;33m\u001b[0m\u001b[1;33m\u001b[0m\u001b[0m\n\u001b[0;32m      3\u001b[0m \u001b[1;32melse\u001b[0m\u001b[1;33m:\u001b[0m\u001b[1;33m\u001b[0m\u001b[1;33m\u001b[0m\u001b[0m\n\u001b[0;32m      4\u001b[0m     \u001b[0mprint\u001b[0m\u001b[1;33m(\u001b[0m\u001b[1;34m'not present'\u001b[0m\u001b[1;33m)\u001b[0m\u001b[1;33m\u001b[0m\u001b[1;33m\u001b[0m\u001b[0m\n",
      "\u001b[1;31mNameError\u001b[0m: name 'i' is not defined"
     ]
    }
   ],
   "source": [
    "if l1[i]==6:\n",
    "    l1[i]=5\n",
    "else:\n",
    "    print('not present')"
   ]
  },
  {
   "cell_type": "code",
   "execution_count": 31,
   "id": "da39fbf9",
   "metadata": {},
   "outputs": [
    {
     "data": {
      "text/plain": [
       "{'a': 1, 'b': 2}"
      ]
     },
     "execution_count": 31,
     "metadata": {},
     "output_type": "execute_result"
    }
   ],
   "source": [
    "d1"
   ]
  },
  {
   "cell_type": "code",
   "execution_count": 32,
   "id": "ec2f2a03",
   "metadata": {},
   "outputs": [],
   "source": [
    "if d1['a']==1:\n",
    "    d1['a']=100\n",
    "else:\n",
    "    print('not found')"
   ]
  },
  {
   "cell_type": "code",
   "execution_count": 33,
   "id": "a3fe4406",
   "metadata": {},
   "outputs": [
    {
     "data": {
      "text/plain": [
       "{'a': 100, 'b': 2}"
      ]
     },
     "execution_count": 33,
     "metadata": {},
     "output_type": "execute_result"
    }
   ],
   "source": [
    "d1"
   ]
  },
  {
   "cell_type": "code",
   "execution_count": null,
   "id": "7b5e3e32",
   "metadata": {},
   "outputs": [],
   "source": []
  }
 ],
 "metadata": {
  "kernelspec": {
   "display_name": "Python 3 (ipykernel)",
   "language": "python",
   "name": "python3"
  },
  "language_info": {
   "codemirror_mode": {
    "name": "ipython",
    "version": 3
   },
   "file_extension": ".py",
   "mimetype": "text/x-python",
   "name": "python",
   "nbconvert_exporter": "python",
   "pygments_lexer": "ipython3",
   "version": "3.9.7"
  }
 },
 "nbformat": 4,
 "nbformat_minor": 5
}
