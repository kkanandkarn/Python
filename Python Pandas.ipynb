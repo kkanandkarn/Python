{
 "cells": [
  {
   "cell_type": "markdown",
   "id": "6cf49116",
   "metadata": {},
   "source": [
    "# Pandas Library"
   ]
  },
  {
   "cell_type": "code",
   "execution_count": 1,
   "id": "6317bb10",
   "metadata": {},
   "outputs": [],
   "source": [
    "import pandas as pd"
   ]
  },
  {
   "cell_type": "code",
   "execution_count": 2,
   "id": "bfdbd5a0",
   "metadata": {},
   "outputs": [],
   "source": [
    "s1=pd.Series([1,2,3,4,5])"
   ]
  },
  {
   "cell_type": "code",
   "execution_count": 3,
   "id": "7745f516",
   "metadata": {},
   "outputs": [
    {
     "data": {
      "text/plain": [
       "0    1\n",
       "1    2\n",
       "2    3\n",
       "3    4\n",
       "4    5\n",
       "dtype: int64"
      ]
     },
     "execution_count": 3,
     "metadata": {},
     "output_type": "execute_result"
    }
   ],
   "source": [
    "s1"
   ]
  },
  {
   "cell_type": "code",
   "execution_count": 4,
   "id": "7de867d3",
   "metadata": {},
   "outputs": [
    {
     "data": {
      "text/plain": [
       "pandas.core.series.Series"
      ]
     },
     "execution_count": 4,
     "metadata": {},
     "output_type": "execute_result"
    }
   ],
   "source": [
    "type(s1)"
   ]
  },
  {
   "cell_type": "code",
   "execution_count": 5,
   "id": "1982763c",
   "metadata": {},
   "outputs": [],
   "source": [
    "# 2. Changing Index"
   ]
  },
  {
   "cell_type": "code",
   "execution_count": 6,
   "id": "0079ba01",
   "metadata": {},
   "outputs": [],
   "source": [
    "s1=pd.Series([1,2,3,4,5],index=['a','b','c','d','e'])"
   ]
  },
  {
   "cell_type": "code",
   "execution_count": 7,
   "id": "d08cbaa9",
   "metadata": {},
   "outputs": [
    {
     "data": {
      "text/plain": [
       "a    1\n",
       "b    2\n",
       "c    3\n",
       "d    4\n",
       "e    5\n",
       "dtype: int64"
      ]
     },
     "execution_count": 7,
     "metadata": {},
     "output_type": "execute_result"
    }
   ],
   "source": [
    "s1"
   ]
  },
  {
   "cell_type": "code",
   "execution_count": 8,
   "id": "df1dcb9b",
   "metadata": {},
   "outputs": [],
   "source": [
    "# 3. Series object with dictionary"
   ]
  },
  {
   "cell_type": "code",
   "execution_count": 9,
   "id": "0410ba2f",
   "metadata": {},
   "outputs": [],
   "source": [
    "s2=pd.Series({'k1':10,'k2':20,'k3':30})"
   ]
  },
  {
   "cell_type": "code",
   "execution_count": 10,
   "id": "8069e326",
   "metadata": {},
   "outputs": [
    {
     "data": {
      "text/plain": [
       "k1    10\n",
       "k2    20\n",
       "k3    30\n",
       "dtype: int64"
      ]
     },
     "execution_count": 10,
     "metadata": {},
     "output_type": "execute_result"
    }
   ],
   "source": [
    "s2"
   ]
  },
  {
   "cell_type": "code",
   "execution_count": 11,
   "id": "3878668c",
   "metadata": {},
   "outputs": [],
   "source": [
    "# 4. changing index position"
   ]
  },
  {
   "cell_type": "code",
   "execution_count": 12,
   "id": "6dd948af",
   "metadata": {},
   "outputs": [],
   "source": [
    "s3=pd.Series({'k1':10,'k2':20,'k3':30},index=['k3','k1','k4','k2'])"
   ]
  },
  {
   "cell_type": "code",
   "execution_count": 13,
   "id": "a38ac607",
   "metadata": {},
   "outputs": [
    {
     "data": {
      "text/plain": [
       "k3    30.0\n",
       "k1    10.0\n",
       "k4     NaN\n",
       "k2    20.0\n",
       "dtype: float64"
      ]
     },
     "execution_count": 13,
     "metadata": {},
     "output_type": "execute_result"
    }
   ],
   "source": [
    "s3"
   ]
  },
  {
   "cell_type": "code",
   "execution_count": 14,
   "id": "60af58f3",
   "metadata": {},
   "outputs": [],
   "source": [
    "# 5. Extracting Individual Elements"
   ]
  },
  {
   "cell_type": "code",
   "execution_count": 15,
   "id": "33224d76",
   "metadata": {},
   "outputs": [],
   "source": [
    "l1 = [1,2,3,4,5,6,7,8,9]"
   ]
  },
  {
   "cell_type": "code",
   "execution_count": 16,
   "id": "98d0b9e9",
   "metadata": {},
   "outputs": [],
   "source": [
    "s1=pd.Series(l1)"
   ]
  },
  {
   "cell_type": "code",
   "execution_count": 17,
   "id": "8d1ba19e",
   "metadata": {},
   "outputs": [
    {
     "data": {
      "text/plain": [
       "0    1\n",
       "1    2\n",
       "2    3\n",
       "3    4\n",
       "4    5\n",
       "5    6\n",
       "6    7\n",
       "7    8\n",
       "8    9\n",
       "dtype: int64"
      ]
     },
     "execution_count": 17,
     "metadata": {},
     "output_type": "execute_result"
    }
   ],
   "source": [
    "s1"
   ]
  },
  {
   "cell_type": "code",
   "execution_count": 18,
   "id": "e4b59657",
   "metadata": {},
   "outputs": [
    {
     "data": {
      "text/plain": [
       "5"
      ]
     },
     "execution_count": 18,
     "metadata": {},
     "output_type": "execute_result"
    }
   ],
   "source": [
    "s1[4]"
   ]
  },
  {
   "cell_type": "code",
   "execution_count": 19,
   "id": "06e18263",
   "metadata": {},
   "outputs": [
    {
     "data": {
      "text/plain": [
       "0    1\n",
       "1    2\n",
       "2    3\n",
       "3    4\n",
       "4    5\n",
       "5    6\n",
       "dtype: int64"
      ]
     },
     "execution_count": 19,
     "metadata": {},
     "output_type": "execute_result"
    }
   ],
   "source": [
    "s1[:6]"
   ]
  },
  {
   "cell_type": "code",
   "execution_count": 20,
   "id": "c6cdbeb0",
   "metadata": {},
   "outputs": [
    {
     "data": {
      "text/plain": [
       "6    7\n",
       "7    8\n",
       "8    9\n",
       "dtype: int64"
      ]
     },
     "execution_count": 20,
     "metadata": {},
     "output_type": "execute_result"
    }
   ],
   "source": [
    "s1[-3:]"
   ]
  },
  {
   "cell_type": "code",
   "execution_count": 21,
   "id": "56fd69c8",
   "metadata": {},
   "outputs": [],
   "source": [
    "# 6. Basic math operation on series"
   ]
  },
  {
   "cell_type": "code",
   "execution_count": 22,
   "id": "fc0d07c3",
   "metadata": {},
   "outputs": [
    {
     "data": {
      "text/plain": [
       "0    1\n",
       "1    2\n",
       "2    3\n",
       "3    4\n",
       "4    5\n",
       "5    6\n",
       "6    7\n",
       "7    8\n",
       "8    9\n",
       "dtype: int64"
      ]
     },
     "execution_count": 22,
     "metadata": {},
     "output_type": "execute_result"
    }
   ],
   "source": [
    "s1"
   ]
  },
  {
   "cell_type": "code",
   "execution_count": 23,
   "id": "89c59e28",
   "metadata": {},
   "outputs": [
    {
     "data": {
      "text/plain": [
       "0    11\n",
       "1    12\n",
       "2    13\n",
       "3    14\n",
       "4    15\n",
       "5    16\n",
       "6    17\n",
       "7    18\n",
       "8    19\n",
       "dtype: int64"
      ]
     },
     "execution_count": 23,
     "metadata": {},
     "output_type": "execute_result"
    }
   ],
   "source": [
    "#adding scalar value\n",
    "s1+10"
   ]
  },
  {
   "cell_type": "code",
   "execution_count": 24,
   "id": "7a03a995",
   "metadata": {},
   "outputs": [
    {
     "data": {
      "text/plain": [
       "0   -9\n",
       "1   -8\n",
       "2   -7\n",
       "3   -6\n",
       "4   -5\n",
       "5   -4\n",
       "6   -3\n",
       "7   -2\n",
       "8   -1\n",
       "dtype: int64"
      ]
     },
     "execution_count": 24,
     "metadata": {},
     "output_type": "execute_result"
    }
   ],
   "source": [
    "# subtracting scalar value\n",
    "s1-10"
   ]
  },
  {
   "cell_type": "code",
   "execution_count": 25,
   "id": "530a8f59",
   "metadata": {},
   "outputs": [
    {
     "data": {
      "text/plain": [
       "0     2\n",
       "1     4\n",
       "2     6\n",
       "3     8\n",
       "4    10\n",
       "5    12\n",
       "6    14\n",
       "7    16\n",
       "8    18\n",
       "dtype: int64"
      ]
     },
     "execution_count": 25,
     "metadata": {},
     "output_type": "execute_result"
    }
   ],
   "source": [
    "# Multiplication scalar value\n",
    "s1*2"
   ]
  },
  {
   "cell_type": "code",
   "execution_count": 26,
   "id": "2759f9fd",
   "metadata": {},
   "outputs": [
    {
     "data": {
      "text/plain": [
       "0    0.5\n",
       "1    1.0\n",
       "2    1.5\n",
       "3    2.0\n",
       "4    2.5\n",
       "5    3.0\n",
       "6    3.5\n",
       "7    4.0\n",
       "8    4.5\n",
       "dtype: float64"
      ]
     },
     "execution_count": 26,
     "metadata": {},
     "output_type": "execute_result"
    }
   ],
   "source": [
    "# Dividing scalar value\n",
    "s1/2"
   ]
  },
  {
   "cell_type": "code",
   "execution_count": 27,
   "id": "132277ec",
   "metadata": {},
   "outputs": [
    {
     "data": {
      "text/plain": [
       "0    11\n",
       "1    22\n",
       "2    33\n",
       "3    44\n",
       "4    55\n",
       "5    66\n",
       "6    77\n",
       "7    88\n",
       "8    99\n",
       "dtype: int64"
      ]
     },
     "execution_count": 27,
     "metadata": {},
     "output_type": "execute_result"
    }
   ],
   "source": [
    "# Adding two series object\n",
    "s1=pd.Series([1,2,3,4,5,6,7,8,9])\n",
    "s2=pd.Series([10,20,30,40,50,60,70,80,90])\n",
    "s1+s2"
   ]
  },
  {
   "cell_type": "code",
   "execution_count": 28,
   "id": "c32b6669",
   "metadata": {},
   "outputs": [],
   "source": [
    "# 7. Python Dataframe"
   ]
  },
  {
   "cell_type": "code",
   "execution_count": 29,
   "id": "8a1f6acf",
   "metadata": {},
   "outputs": [
    {
     "data": {
      "text/html": [
       "<div>\n",
       "<style scoped>\n",
       "    .dataframe tbody tr th:only-of-type {\n",
       "        vertical-align: middle;\n",
       "    }\n",
       "\n",
       "    .dataframe tbody tr th {\n",
       "        vertical-align: top;\n",
       "    }\n",
       "\n",
       "    .dataframe thead th {\n",
       "        text-align: right;\n",
       "    }\n",
       "</style>\n",
       "<table border=\"1\" class=\"dataframe\">\n",
       "  <thead>\n",
       "    <tr style=\"text-align: right;\">\n",
       "      <th></th>\n",
       "      <th>Name</th>\n",
       "      <th>Marks</th>\n",
       "    </tr>\n",
       "  </thead>\n",
       "  <tbody>\n",
       "    <tr>\n",
       "      <th>0</th>\n",
       "      <td>Anand</td>\n",
       "      <td>75</td>\n",
       "    </tr>\n",
       "    <tr>\n",
       "      <th>1</th>\n",
       "      <td>guru</td>\n",
       "      <td>92</td>\n",
       "    </tr>\n",
       "    <tr>\n",
       "      <th>2</th>\n",
       "      <td>Shivam</td>\n",
       "      <td>85</td>\n",
       "    </tr>\n",
       "  </tbody>\n",
       "</table>\n",
       "</div>"
      ],
      "text/plain": [
       "     Name  Marks\n",
       "0   Anand     75\n",
       "1    guru     92\n",
       "2  Shivam     85"
      ]
     },
     "execution_count": 29,
     "metadata": {},
     "output_type": "execute_result"
    }
   ],
   "source": [
    "# creating data frame\n",
    "pd.DataFrame({'Name':['Anand','guru','Shivam'],'Marks':[75,92,85]})"
   ]
  },
  {
   "cell_type": "code",
   "execution_count": 30,
   "id": "7b84098d",
   "metadata": {},
   "outputs": [],
   "source": [
    "# 8. Working With Excel File using Pandas "
   ]
  },
  {
   "cell_type": "code",
   "execution_count": 31,
   "id": "40678c23",
   "metadata": {},
   "outputs": [],
   "source": [
    "nme = [\"aparna\", \"pankaj\", \"sudhir\", \"Geeku\"]\n",
    "deg = [\"MBA\", \"BCA\", \"M.Tech\", \"MBA\"]\n",
    "scr = [90, 40, 80, 98]\n",
    "# dictionary of list \n",
    "dict = {'name': nme, 'degree': deg, 'score': scr}\n",
    "df = pd.DataFrame(dict)\n",
    "# saving the dataframe\n",
    "df.to_csv('file1.csv')"
   ]
  },
  {
   "cell_type": "code",
   "execution_count": 32,
   "id": "ec38180b",
   "metadata": {},
   "outputs": [],
   "source": [
    "# 9. Saving CSV without headers and index.\n",
    "# list of name, degree, score\n",
    "nme = [\"aparna\", \"pankaj\", \"sudhir\", \"Geeku\"]\n",
    "deg = [\"MBA\", \"BCA\", \"M.Tech\", \"MBA\"]\n",
    "scr = [90, 40, 80, 98]\n",
    "# dictionary of lists\n",
    "dict = {'name': nme, 'degree': deg, 'score': scr}\n",
    "df = pd.DataFrame(dict)\n",
    "# saving the dataframe\n",
    "df.to_csv('file2.csv', header=False, index=False)"
   ]
  },
  {
   "cell_type": "code",
   "execution_count": 33,
   "id": "0b192182",
   "metadata": {},
   "outputs": [],
   "source": [
    "#10. Save csv file to a specified location.\n",
    "\n",
    "# list of name, degree, score\n",
    "nme = [\"aparna\", \"pankaj\", \"sudhir\", \"Geeku\"]\n",
    "deg = [\"MBA\", \"BCA\", \"M.Tech\", \"MBA\"]\n",
    "scr = [90, 40, 80, 98]\n",
    "# dictionary of lists\n",
    "dict = {'name': nme, 'degree': deg, 'score': scr}\n",
    "df = pd.DataFrame(dict)\n",
    "# saving the dataframe\n",
    "df.to_csv(r'E:\\Python Tutorial\\file3.csv', index=False)"
   ]
  },
  {
   "cell_type": "code",
   "execution_count": 34,
   "id": "45b8590c",
   "metadata": {},
   "outputs": [
    {
     "data": {
      "text/html": [
       "<div>\n",
       "<style scoped>\n",
       "    .dataframe tbody tr th:only-of-type {\n",
       "        vertical-align: middle;\n",
       "    }\n",
       "\n",
       "    .dataframe tbody tr th {\n",
       "        vertical-align: top;\n",
       "    }\n",
       "\n",
       "    .dataframe thead th {\n",
       "        text-align: right;\n",
       "    }\n",
       "</style>\n",
       "<table border=\"1\" class=\"dataframe\">\n",
       "  <thead>\n",
       "    <tr style=\"text-align: right;\">\n",
       "      <th></th>\n",
       "      <th>PRN</th>\n",
       "      <th>NAME</th>\n",
       "      <th>COURSE</th>\n",
       "      <th>BRANCH</th>\n",
       "      <th>SESSION</th>\n",
       "      <th>10th Marks</th>\n",
       "      <th>12th Marks</th>\n",
       "      <th>Total Fee</th>\n",
       "    </tr>\n",
       "  </thead>\n",
       "  <tbody>\n",
       "    <tr>\n",
       "      <th>0</th>\n",
       "      <td>SUS52</td>\n",
       "      <td>Anand</td>\n",
       "      <td>B.Tech</td>\n",
       "      <td>CSE</td>\n",
       "      <td>19-23</td>\n",
       "      <td>368</td>\n",
       "      <td>337</td>\n",
       "      <td>75000</td>\n",
       "    </tr>\n",
       "    <tr>\n",
       "      <th>1</th>\n",
       "      <td>SUS13</td>\n",
       "      <td>Megha</td>\n",
       "      <td>B.Tech</td>\n",
       "      <td>CSE</td>\n",
       "      <td>19-23</td>\n",
       "      <td>430</td>\n",
       "      <td>355</td>\n",
       "      <td>70000</td>\n",
       "    </tr>\n",
       "    <tr>\n",
       "      <th>2</th>\n",
       "      <td>SUS59</td>\n",
       "      <td>Shivam</td>\n",
       "      <td>B.Tech</td>\n",
       "      <td>CSE</td>\n",
       "      <td>19-23</td>\n",
       "      <td>322</td>\n",
       "      <td>312</td>\n",
       "      <td>70000</td>\n",
       "    </tr>\n",
       "    <tr>\n",
       "      <th>3</th>\n",
       "      <td>SUS56</td>\n",
       "      <td>Arti</td>\n",
       "      <td>B.Tech</td>\n",
       "      <td>CSE</td>\n",
       "      <td>19-23</td>\n",
       "      <td>411</td>\n",
       "      <td>399</td>\n",
       "      <td>70000</td>\n",
       "    </tr>\n",
       "    <tr>\n",
       "      <th>4</th>\n",
       "      <td>SUS32</td>\n",
       "      <td>Guru</td>\n",
       "      <td>B.Tech</td>\n",
       "      <td>CSE</td>\n",
       "      <td>19-23</td>\n",
       "      <td>370</td>\n",
       "      <td>403</td>\n",
       "      <td>70000</td>\n",
       "    </tr>\n",
       "    <tr>\n",
       "      <th>5</th>\n",
       "      <td>SUS44</td>\n",
       "      <td>Ritesh</td>\n",
       "      <td>BCA</td>\n",
       "      <td>IT</td>\n",
       "      <td>19-22</td>\n",
       "      <td>305</td>\n",
       "      <td>345</td>\n",
       "      <td>55000</td>\n",
       "    </tr>\n",
       "    <tr>\n",
       "      <th>6</th>\n",
       "      <td>SUS11</td>\n",
       "      <td>Deepak</td>\n",
       "      <td>BCA</td>\n",
       "      <td>IT</td>\n",
       "      <td>20-23</td>\n",
       "      <td>302</td>\n",
       "      <td>310</td>\n",
       "      <td>55000</td>\n",
       "    </tr>\n",
       "    <tr>\n",
       "      <th>7</th>\n",
       "      <td>SUS172</td>\n",
       "      <td>Aryant</td>\n",
       "      <td>B.Tech</td>\n",
       "      <td>ME</td>\n",
       "      <td>19-23</td>\n",
       "      <td>255</td>\n",
       "      <td>268</td>\n",
       "      <td>70000</td>\n",
       "    </tr>\n",
       "  </tbody>\n",
       "</table>\n",
       "</div>"
      ],
      "text/plain": [
       "      PRN    NAME  COURSE BRANCH SESSION  10th Marks  12th Marks  Total Fee\n",
       "0   SUS52   Anand  B.Tech    CSE   19-23         368         337      75000\n",
       "1   SUS13   Megha  B.Tech    CSE   19-23         430         355      70000\n",
       "2   SUS59  Shivam  B.Tech    CSE   19-23         322         312      70000\n",
       "3   SUS56    Arti  B.Tech    CSE   19-23         411         399      70000\n",
       "4   SUS32    Guru  B.Tech    CSE   19-23         370         403      70000\n",
       "5   SUS44  Ritesh     BCA     IT   19-22         305         345      55000\n",
       "6   SUS11  Deepak     BCA     IT   20-23         302         310      55000\n",
       "7  SUS172  Aryant  B.Tech     ME   19-23         255         268      70000"
      ]
     },
     "execution_count": 34,
     "metadata": {},
     "output_type": "execute_result"
    }
   ],
   "source": [
    "# 11. Read CSV File\n",
    "# Using the function to load\n",
    "# the data of example.csv\n",
    "# into a Dataframe df\n",
    "df = pd.read_csv('student_data.csv')\n",
    "# Print the Dataframe\n",
    "df"
   ]
  },
  {
   "cell_type": "code",
   "execution_count": 41,
   "id": "53511f69",
   "metadata": {},
   "outputs": [],
   "source": [
    "# 12. Pandas Functions: head(),tail(),shape(),describe()"
   ]
  },
  {
   "cell_type": "code",
   "execution_count": 42,
   "id": "349abe2a",
   "metadata": {},
   "outputs": [],
   "source": [
    "import pandas as pd"
   ]
  },
  {
   "cell_type": "code",
   "execution_count": 43,
   "id": "c4353d6c",
   "metadata": {},
   "outputs": [],
   "source": [
    "df = pd.read_csv('student_data.csv')"
   ]
  },
  {
   "cell_type": "code",
   "execution_count": 44,
   "id": "d847dae2",
   "metadata": {},
   "outputs": [
    {
     "data": {
      "text/html": [
       "<div>\n",
       "<style scoped>\n",
       "    .dataframe tbody tr th:only-of-type {\n",
       "        vertical-align: middle;\n",
       "    }\n",
       "\n",
       "    .dataframe tbody tr th {\n",
       "        vertical-align: top;\n",
       "    }\n",
       "\n",
       "    .dataframe thead th {\n",
       "        text-align: right;\n",
       "    }\n",
       "</style>\n",
       "<table border=\"1\" class=\"dataframe\">\n",
       "  <thead>\n",
       "    <tr style=\"text-align: right;\">\n",
       "      <th></th>\n",
       "      <th>PRN</th>\n",
       "      <th>NAME</th>\n",
       "      <th>COURSE</th>\n",
       "      <th>BRANCH</th>\n",
       "      <th>SESSION</th>\n",
       "      <th>10th Marks</th>\n",
       "      <th>12th Marks</th>\n",
       "      <th>Total Fee</th>\n",
       "    </tr>\n",
       "  </thead>\n",
       "  <tbody>\n",
       "    <tr>\n",
       "      <th>0</th>\n",
       "      <td>SUS52</td>\n",
       "      <td>Anand</td>\n",
       "      <td>B.Tech</td>\n",
       "      <td>CSE</td>\n",
       "      <td>19-23</td>\n",
       "      <td>368</td>\n",
       "      <td>337</td>\n",
       "      <td>75000</td>\n",
       "    </tr>\n",
       "    <tr>\n",
       "      <th>1</th>\n",
       "      <td>SUS13</td>\n",
       "      <td>Megha</td>\n",
       "      <td>B.Tech</td>\n",
       "      <td>CSE</td>\n",
       "      <td>19-23</td>\n",
       "      <td>430</td>\n",
       "      <td>355</td>\n",
       "      <td>70000</td>\n",
       "    </tr>\n",
       "    <tr>\n",
       "      <th>2</th>\n",
       "      <td>SUS59</td>\n",
       "      <td>Shivam</td>\n",
       "      <td>B.Tech</td>\n",
       "      <td>CSE</td>\n",
       "      <td>19-23</td>\n",
       "      <td>322</td>\n",
       "      <td>312</td>\n",
       "      <td>70000</td>\n",
       "    </tr>\n",
       "    <tr>\n",
       "      <th>3</th>\n",
       "      <td>SUS56</td>\n",
       "      <td>Arti</td>\n",
       "      <td>B.Tech</td>\n",
       "      <td>CSE</td>\n",
       "      <td>19-23</td>\n",
       "      <td>411</td>\n",
       "      <td>399</td>\n",
       "      <td>70000</td>\n",
       "    </tr>\n",
       "    <tr>\n",
       "      <th>4</th>\n",
       "      <td>SUS32</td>\n",
       "      <td>Guru</td>\n",
       "      <td>B.Tech</td>\n",
       "      <td>CSE</td>\n",
       "      <td>19-23</td>\n",
       "      <td>370</td>\n",
       "      <td>403</td>\n",
       "      <td>70000</td>\n",
       "    </tr>\n",
       "  </tbody>\n",
       "</table>\n",
       "</div>"
      ],
      "text/plain": [
       "     PRN    NAME  COURSE BRANCH SESSION  10th Marks  12th Marks  Total Fee\n",
       "0  SUS52   Anand  B.Tech    CSE   19-23         368         337      75000\n",
       "1  SUS13   Megha  B.Tech    CSE   19-23         430         355      70000\n",
       "2  SUS59  Shivam  B.Tech    CSE   19-23         322         312      70000\n",
       "3  SUS56    Arti  B.Tech    CSE   19-23         411         399      70000\n",
       "4  SUS32    Guru  B.Tech    CSE   19-23         370         403      70000"
      ]
     },
     "execution_count": 44,
     "metadata": {},
     "output_type": "execute_result"
    }
   ],
   "source": [
    "df.head()"
   ]
  },
  {
   "cell_type": "code",
   "execution_count": 45,
   "id": "1fa86a7f",
   "metadata": {},
   "outputs": [
    {
     "data": {
      "text/html": [
       "<div>\n",
       "<style scoped>\n",
       "    .dataframe tbody tr th:only-of-type {\n",
       "        vertical-align: middle;\n",
       "    }\n",
       "\n",
       "    .dataframe tbody tr th {\n",
       "        vertical-align: top;\n",
       "    }\n",
       "\n",
       "    .dataframe thead th {\n",
       "        text-align: right;\n",
       "    }\n",
       "</style>\n",
       "<table border=\"1\" class=\"dataframe\">\n",
       "  <thead>\n",
       "    <tr style=\"text-align: right;\">\n",
       "      <th></th>\n",
       "      <th>PRN</th>\n",
       "      <th>NAME</th>\n",
       "      <th>COURSE</th>\n",
       "      <th>BRANCH</th>\n",
       "      <th>SESSION</th>\n",
       "      <th>10th Marks</th>\n",
       "      <th>12th Marks</th>\n",
       "      <th>Total Fee</th>\n",
       "    </tr>\n",
       "  </thead>\n",
       "  <tbody>\n",
       "    <tr>\n",
       "      <th>3</th>\n",
       "      <td>SUS56</td>\n",
       "      <td>Arti</td>\n",
       "      <td>B.Tech</td>\n",
       "      <td>CSE</td>\n",
       "      <td>19-23</td>\n",
       "      <td>411</td>\n",
       "      <td>399</td>\n",
       "      <td>70000</td>\n",
       "    </tr>\n",
       "    <tr>\n",
       "      <th>4</th>\n",
       "      <td>SUS32</td>\n",
       "      <td>Guru</td>\n",
       "      <td>B.Tech</td>\n",
       "      <td>CSE</td>\n",
       "      <td>19-23</td>\n",
       "      <td>370</td>\n",
       "      <td>403</td>\n",
       "      <td>70000</td>\n",
       "    </tr>\n",
       "    <tr>\n",
       "      <th>5</th>\n",
       "      <td>SUS44</td>\n",
       "      <td>Ritesh</td>\n",
       "      <td>BCA</td>\n",
       "      <td>IT</td>\n",
       "      <td>19-22</td>\n",
       "      <td>305</td>\n",
       "      <td>345</td>\n",
       "      <td>55000</td>\n",
       "    </tr>\n",
       "    <tr>\n",
       "      <th>6</th>\n",
       "      <td>SUS11</td>\n",
       "      <td>Deepak</td>\n",
       "      <td>BCA</td>\n",
       "      <td>IT</td>\n",
       "      <td>20-23</td>\n",
       "      <td>302</td>\n",
       "      <td>310</td>\n",
       "      <td>55000</td>\n",
       "    </tr>\n",
       "    <tr>\n",
       "      <th>7</th>\n",
       "      <td>SUS172</td>\n",
       "      <td>Aryant</td>\n",
       "      <td>B.Tech</td>\n",
       "      <td>ME</td>\n",
       "      <td>19-23</td>\n",
       "      <td>255</td>\n",
       "      <td>268</td>\n",
       "      <td>70000</td>\n",
       "    </tr>\n",
       "  </tbody>\n",
       "</table>\n",
       "</div>"
      ],
      "text/plain": [
       "      PRN    NAME  COURSE BRANCH SESSION  10th Marks  12th Marks  Total Fee\n",
       "3   SUS56    Arti  B.Tech    CSE   19-23         411         399      70000\n",
       "4   SUS32    Guru  B.Tech    CSE   19-23         370         403      70000\n",
       "5   SUS44  Ritesh     BCA     IT   19-22         305         345      55000\n",
       "6   SUS11  Deepak     BCA     IT   20-23         302         310      55000\n",
       "7  SUS172  Aryant  B.Tech     ME   19-23         255         268      70000"
      ]
     },
     "execution_count": 45,
     "metadata": {},
     "output_type": "execute_result"
    }
   ],
   "source": [
    "df.tail()"
   ]
  },
  {
   "cell_type": "code",
   "execution_count": 46,
   "id": "a5af98b9",
   "metadata": {},
   "outputs": [
    {
     "data": {
      "text/plain": [
       "(8, 8)"
      ]
     },
     "execution_count": 46,
     "metadata": {},
     "output_type": "execute_result"
    }
   ],
   "source": [
    "df.shape"
   ]
  },
  {
   "cell_type": "code",
   "execution_count": 47,
   "id": "af63d42b",
   "metadata": {},
   "outputs": [
    {
     "data": {
      "text/html": [
       "<div>\n",
       "<style scoped>\n",
       "    .dataframe tbody tr th:only-of-type {\n",
       "        vertical-align: middle;\n",
       "    }\n",
       "\n",
       "    .dataframe tbody tr th {\n",
       "        vertical-align: top;\n",
       "    }\n",
       "\n",
       "    .dataframe thead th {\n",
       "        text-align: right;\n",
       "    }\n",
       "</style>\n",
       "<table border=\"1\" class=\"dataframe\">\n",
       "  <thead>\n",
       "    <tr style=\"text-align: right;\">\n",
       "      <th></th>\n",
       "      <th>10th Marks</th>\n",
       "      <th>12th Marks</th>\n",
       "      <th>Total Fee</th>\n",
       "    </tr>\n",
       "  </thead>\n",
       "  <tbody>\n",
       "    <tr>\n",
       "      <th>count</th>\n",
       "      <td>8.000000</td>\n",
       "      <td>8.000000</td>\n",
       "      <td>8.000000</td>\n",
       "    </tr>\n",
       "    <tr>\n",
       "      <th>mean</th>\n",
       "      <td>345.375000</td>\n",
       "      <td>341.125000</td>\n",
       "      <td>66875.000000</td>\n",
       "    </tr>\n",
       "    <tr>\n",
       "      <th>std</th>\n",
       "      <td>59.536153</td>\n",
       "      <td>45.617783</td>\n",
       "      <td>7529.703087</td>\n",
       "    </tr>\n",
       "    <tr>\n",
       "      <th>min</th>\n",
       "      <td>255.000000</td>\n",
       "      <td>268.000000</td>\n",
       "      <td>55000.000000</td>\n",
       "    </tr>\n",
       "    <tr>\n",
       "      <th>25%</th>\n",
       "      <td>304.250000</td>\n",
       "      <td>311.500000</td>\n",
       "      <td>66250.000000</td>\n",
       "    </tr>\n",
       "    <tr>\n",
       "      <th>50%</th>\n",
       "      <td>345.000000</td>\n",
       "      <td>341.000000</td>\n",
       "      <td>70000.000000</td>\n",
       "    </tr>\n",
       "    <tr>\n",
       "      <th>75%</th>\n",
       "      <td>380.250000</td>\n",
       "      <td>366.000000</td>\n",
       "      <td>70000.000000</td>\n",
       "    </tr>\n",
       "    <tr>\n",
       "      <th>max</th>\n",
       "      <td>430.000000</td>\n",
       "      <td>403.000000</td>\n",
       "      <td>75000.000000</td>\n",
       "    </tr>\n",
       "  </tbody>\n",
       "</table>\n",
       "</div>"
      ],
      "text/plain": [
       "       10th Marks  12th Marks     Total Fee\n",
       "count    8.000000    8.000000      8.000000\n",
       "mean   345.375000  341.125000  66875.000000\n",
       "std     59.536153   45.617783   7529.703087\n",
       "min    255.000000  268.000000  55000.000000\n",
       "25%    304.250000  311.500000  66250.000000\n",
       "50%    345.000000  341.000000  70000.000000\n",
       "75%    380.250000  366.000000  70000.000000\n",
       "max    430.000000  403.000000  75000.000000"
      ]
     },
     "execution_count": 47,
     "metadata": {},
     "output_type": "execute_result"
    }
   ],
   "source": [
    "df.describe()"
   ]
  },
  {
   "cell_type": "code",
   "execution_count": 48,
   "id": "42f62d52",
   "metadata": {},
   "outputs": [],
   "source": [
    "# 13. .iloc[]"
   ]
  },
  {
   "cell_type": "code",
   "execution_count": 49,
   "id": "1faf9a32",
   "metadata": {},
   "outputs": [
    {
     "data": {
      "text/html": [
       "<div>\n",
       "<style scoped>\n",
       "    .dataframe tbody tr th:only-of-type {\n",
       "        vertical-align: middle;\n",
       "    }\n",
       "\n",
       "    .dataframe tbody tr th {\n",
       "        vertical-align: top;\n",
       "    }\n",
       "\n",
       "    .dataframe thead th {\n",
       "        text-align: right;\n",
       "    }\n",
       "</style>\n",
       "<table border=\"1\" class=\"dataframe\">\n",
       "  <thead>\n",
       "    <tr style=\"text-align: right;\">\n",
       "      <th></th>\n",
       "      <th>PRN</th>\n",
       "      <th>NAME</th>\n",
       "      <th>COURSE</th>\n",
       "      <th>BRANCH</th>\n",
       "      <th>SESSION</th>\n",
       "      <th>10th Marks</th>\n",
       "      <th>12th Marks</th>\n",
       "      <th>Total Fee</th>\n",
       "    </tr>\n",
       "  </thead>\n",
       "  <tbody>\n",
       "    <tr>\n",
       "      <th>0</th>\n",
       "      <td>SUS52</td>\n",
       "      <td>Anand</td>\n",
       "      <td>B.Tech</td>\n",
       "      <td>CSE</td>\n",
       "      <td>19-23</td>\n",
       "      <td>368</td>\n",
       "      <td>337</td>\n",
       "      <td>75000</td>\n",
       "    </tr>\n",
       "    <tr>\n",
       "      <th>1</th>\n",
       "      <td>SUS13</td>\n",
       "      <td>Megha</td>\n",
       "      <td>B.Tech</td>\n",
       "      <td>CSE</td>\n",
       "      <td>19-23</td>\n",
       "      <td>430</td>\n",
       "      <td>355</td>\n",
       "      <td>70000</td>\n",
       "    </tr>\n",
       "    <tr>\n",
       "      <th>2</th>\n",
       "      <td>SUS59</td>\n",
       "      <td>Shivam</td>\n",
       "      <td>B.Tech</td>\n",
       "      <td>CSE</td>\n",
       "      <td>19-23</td>\n",
       "      <td>322</td>\n",
       "      <td>312</td>\n",
       "      <td>70000</td>\n",
       "    </tr>\n",
       "    <tr>\n",
       "      <th>3</th>\n",
       "      <td>SUS56</td>\n",
       "      <td>Arti</td>\n",
       "      <td>B.Tech</td>\n",
       "      <td>CSE</td>\n",
       "      <td>19-23</td>\n",
       "      <td>411</td>\n",
       "      <td>399</td>\n",
       "      <td>70000</td>\n",
       "    </tr>\n",
       "    <tr>\n",
       "      <th>4</th>\n",
       "      <td>SUS32</td>\n",
       "      <td>Guru</td>\n",
       "      <td>B.Tech</td>\n",
       "      <td>CSE</td>\n",
       "      <td>19-23</td>\n",
       "      <td>370</td>\n",
       "      <td>403</td>\n",
       "      <td>70000</td>\n",
       "    </tr>\n",
       "    <tr>\n",
       "      <th>5</th>\n",
       "      <td>SUS44</td>\n",
       "      <td>Ritesh</td>\n",
       "      <td>BCA</td>\n",
       "      <td>IT</td>\n",
       "      <td>19-22</td>\n",
       "      <td>305</td>\n",
       "      <td>345</td>\n",
       "      <td>55000</td>\n",
       "    </tr>\n",
       "    <tr>\n",
       "      <th>6</th>\n",
       "      <td>SUS11</td>\n",
       "      <td>Deepak</td>\n",
       "      <td>BCA</td>\n",
       "      <td>IT</td>\n",
       "      <td>20-23</td>\n",
       "      <td>302</td>\n",
       "      <td>310</td>\n",
       "      <td>55000</td>\n",
       "    </tr>\n",
       "    <tr>\n",
       "      <th>7</th>\n",
       "      <td>SUS172</td>\n",
       "      <td>Aryant</td>\n",
       "      <td>B.Tech</td>\n",
       "      <td>ME</td>\n",
       "      <td>19-23</td>\n",
       "      <td>255</td>\n",
       "      <td>268</td>\n",
       "      <td>70000</td>\n",
       "    </tr>\n",
       "  </tbody>\n",
       "</table>\n",
       "</div>"
      ],
      "text/plain": [
       "      PRN    NAME  COURSE BRANCH SESSION  10th Marks  12th Marks  Total Fee\n",
       "0   SUS52   Anand  B.Tech    CSE   19-23         368         337      75000\n",
       "1   SUS13   Megha  B.Tech    CSE   19-23         430         355      70000\n",
       "2   SUS59  Shivam  B.Tech    CSE   19-23         322         312      70000\n",
       "3   SUS56    Arti  B.Tech    CSE   19-23         411         399      70000\n",
       "4   SUS32    Guru  B.Tech    CSE   19-23         370         403      70000\n",
       "5   SUS44  Ritesh     BCA     IT   19-22         305         345      55000\n",
       "6   SUS11  Deepak     BCA     IT   20-23         302         310      55000\n",
       "7  SUS172  Aryant  B.Tech     ME   19-23         255         268      70000"
      ]
     },
     "execution_count": 49,
     "metadata": {},
     "output_type": "execute_result"
    }
   ],
   "source": [
    "df"
   ]
  },
  {
   "cell_type": "code",
   "execution_count": 50,
   "id": "a3107dd5",
   "metadata": {},
   "outputs": [
    {
     "data": {
      "text/html": [
       "<div>\n",
       "<style scoped>\n",
       "    .dataframe tbody tr th:only-of-type {\n",
       "        vertical-align: middle;\n",
       "    }\n",
       "\n",
       "    .dataframe tbody tr th {\n",
       "        vertical-align: top;\n",
       "    }\n",
       "\n",
       "    .dataframe thead th {\n",
       "        text-align: right;\n",
       "    }\n",
       "</style>\n",
       "<table border=\"1\" class=\"dataframe\">\n",
       "  <thead>\n",
       "    <tr style=\"text-align: right;\">\n",
       "      <th></th>\n",
       "      <th>10th Marks</th>\n",
       "      <th>12th Marks</th>\n",
       "      <th>Total Fee</th>\n",
       "    </tr>\n",
       "  </thead>\n",
       "  <tbody>\n",
       "    <tr>\n",
       "      <th>2</th>\n",
       "      <td>322</td>\n",
       "      <td>312</td>\n",
       "      <td>70000</td>\n",
       "    </tr>\n",
       "    <tr>\n",
       "      <th>3</th>\n",
       "      <td>411</td>\n",
       "      <td>399</td>\n",
       "      <td>70000</td>\n",
       "    </tr>\n",
       "    <tr>\n",
       "      <th>4</th>\n",
       "      <td>370</td>\n",
       "      <td>403</td>\n",
       "      <td>70000</td>\n",
       "    </tr>\n",
       "    <tr>\n",
       "      <th>5</th>\n",
       "      <td>305</td>\n",
       "      <td>345</td>\n",
       "      <td>55000</td>\n",
       "    </tr>\n",
       "  </tbody>\n",
       "</table>\n",
       "</div>"
      ],
      "text/plain": [
       "   10th Marks  12th Marks  Total Fee\n",
       "2         322         312      70000\n",
       "3         411         399      70000\n",
       "4         370         403      70000\n",
       "5         305         345      55000"
      ]
     },
     "execution_count": 50,
     "metadata": {},
     "output_type": "execute_result"
    }
   ],
   "source": [
    "df.iloc[2:6,5:8]"
   ]
  },
  {
   "cell_type": "code",
   "execution_count": 51,
   "id": "9a24fcbc",
   "metadata": {},
   "outputs": [],
   "source": [
    "# 14. .loc[]"
   ]
  },
  {
   "cell_type": "code",
   "execution_count": 52,
   "id": "0b306609",
   "metadata": {},
   "outputs": [
    {
     "data": {
      "text/html": [
       "<div>\n",
       "<style scoped>\n",
       "    .dataframe tbody tr th:only-of-type {\n",
       "        vertical-align: middle;\n",
       "    }\n",
       "\n",
       "    .dataframe tbody tr th {\n",
       "        vertical-align: top;\n",
       "    }\n",
       "\n",
       "    .dataframe thead th {\n",
       "        text-align: right;\n",
       "    }\n",
       "</style>\n",
       "<table border=\"1\" class=\"dataframe\">\n",
       "  <thead>\n",
       "    <tr style=\"text-align: right;\">\n",
       "      <th></th>\n",
       "      <th>10th Marks</th>\n",
       "      <th>12th Marks</th>\n",
       "    </tr>\n",
       "  </thead>\n",
       "  <tbody>\n",
       "    <tr>\n",
       "      <th>2</th>\n",
       "      <td>322</td>\n",
       "      <td>312</td>\n",
       "    </tr>\n",
       "    <tr>\n",
       "      <th>3</th>\n",
       "      <td>411</td>\n",
       "      <td>399</td>\n",
       "    </tr>\n",
       "    <tr>\n",
       "      <th>4</th>\n",
       "      <td>370</td>\n",
       "      <td>403</td>\n",
       "    </tr>\n",
       "    <tr>\n",
       "      <th>5</th>\n",
       "      <td>305</td>\n",
       "      <td>345</td>\n",
       "    </tr>\n",
       "  </tbody>\n",
       "</table>\n",
       "</div>"
      ],
      "text/plain": [
       "   10th Marks  12th Marks\n",
       "2         322         312\n",
       "3         411         399\n",
       "4         370         403\n",
       "5         305         345"
      ]
     },
     "execution_count": 52,
     "metadata": {},
     "output_type": "execute_result"
    }
   ],
   "source": [
    "df.loc[2:5,(\"10th Marks\",\"12th Marks\")]"
   ]
  },
  {
   "cell_type": "code",
   "execution_count": 53,
   "id": "9b4879a6",
   "metadata": {},
   "outputs": [],
   "source": [
    "# 15. Dropping Columns"
   ]
  },
  {
   "cell_type": "code",
   "execution_count": 54,
   "id": "845154be",
   "metadata": {},
   "outputs": [
    {
     "data": {
      "text/html": [
       "<div>\n",
       "<style scoped>\n",
       "    .dataframe tbody tr th:only-of-type {\n",
       "        vertical-align: middle;\n",
       "    }\n",
       "\n",
       "    .dataframe tbody tr th {\n",
       "        vertical-align: top;\n",
       "    }\n",
       "\n",
       "    .dataframe thead th {\n",
       "        text-align: right;\n",
       "    }\n",
       "</style>\n",
       "<table border=\"1\" class=\"dataframe\">\n",
       "  <thead>\n",
       "    <tr style=\"text-align: right;\">\n",
       "      <th></th>\n",
       "      <th>PRN</th>\n",
       "      <th>NAME</th>\n",
       "      <th>COURSE</th>\n",
       "      <th>BRANCH</th>\n",
       "      <th>SESSION</th>\n",
       "      <th>10th Marks</th>\n",
       "      <th>12th Marks</th>\n",
       "    </tr>\n",
       "  </thead>\n",
       "  <tbody>\n",
       "    <tr>\n",
       "      <th>0</th>\n",
       "      <td>SUS52</td>\n",
       "      <td>Anand</td>\n",
       "      <td>B.Tech</td>\n",
       "      <td>CSE</td>\n",
       "      <td>19-23</td>\n",
       "      <td>368</td>\n",
       "      <td>337</td>\n",
       "    </tr>\n",
       "    <tr>\n",
       "      <th>1</th>\n",
       "      <td>SUS13</td>\n",
       "      <td>Megha</td>\n",
       "      <td>B.Tech</td>\n",
       "      <td>CSE</td>\n",
       "      <td>19-23</td>\n",
       "      <td>430</td>\n",
       "      <td>355</td>\n",
       "    </tr>\n",
       "    <tr>\n",
       "      <th>2</th>\n",
       "      <td>SUS59</td>\n",
       "      <td>Shivam</td>\n",
       "      <td>B.Tech</td>\n",
       "      <td>CSE</td>\n",
       "      <td>19-23</td>\n",
       "      <td>322</td>\n",
       "      <td>312</td>\n",
       "    </tr>\n",
       "    <tr>\n",
       "      <th>3</th>\n",
       "      <td>SUS56</td>\n",
       "      <td>Arti</td>\n",
       "      <td>B.Tech</td>\n",
       "      <td>CSE</td>\n",
       "      <td>19-23</td>\n",
       "      <td>411</td>\n",
       "      <td>399</td>\n",
       "    </tr>\n",
       "    <tr>\n",
       "      <th>4</th>\n",
       "      <td>SUS32</td>\n",
       "      <td>Guru</td>\n",
       "      <td>B.Tech</td>\n",
       "      <td>CSE</td>\n",
       "      <td>19-23</td>\n",
       "      <td>370</td>\n",
       "      <td>403</td>\n",
       "    </tr>\n",
       "    <tr>\n",
       "      <th>5</th>\n",
       "      <td>SUS44</td>\n",
       "      <td>Ritesh</td>\n",
       "      <td>BCA</td>\n",
       "      <td>IT</td>\n",
       "      <td>19-22</td>\n",
       "      <td>305</td>\n",
       "      <td>345</td>\n",
       "    </tr>\n",
       "    <tr>\n",
       "      <th>6</th>\n",
       "      <td>SUS11</td>\n",
       "      <td>Deepak</td>\n",
       "      <td>BCA</td>\n",
       "      <td>IT</td>\n",
       "      <td>20-23</td>\n",
       "      <td>302</td>\n",
       "      <td>310</td>\n",
       "    </tr>\n",
       "    <tr>\n",
       "      <th>7</th>\n",
       "      <td>SUS172</td>\n",
       "      <td>Aryant</td>\n",
       "      <td>B.Tech</td>\n",
       "      <td>ME</td>\n",
       "      <td>19-23</td>\n",
       "      <td>255</td>\n",
       "      <td>268</td>\n",
       "    </tr>\n",
       "  </tbody>\n",
       "</table>\n",
       "</div>"
      ],
      "text/plain": [
       "      PRN    NAME  COURSE BRANCH SESSION  10th Marks  12th Marks\n",
       "0   SUS52   Anand  B.Tech    CSE   19-23         368         337\n",
       "1   SUS13   Megha  B.Tech    CSE   19-23         430         355\n",
       "2   SUS59  Shivam  B.Tech    CSE   19-23         322         312\n",
       "3   SUS56    Arti  B.Tech    CSE   19-23         411         399\n",
       "4   SUS32    Guru  B.Tech    CSE   19-23         370         403\n",
       "5   SUS44  Ritesh     BCA     IT   19-22         305         345\n",
       "6   SUS11  Deepak     BCA     IT   20-23         302         310\n",
       "7  SUS172  Aryant  B.Tech     ME   19-23         255         268"
      ]
     },
     "execution_count": 54,
     "metadata": {},
     "output_type": "execute_result"
    }
   ],
   "source": [
    "df.drop('Total Fee',axis=1)"
   ]
  },
  {
   "cell_type": "code",
   "execution_count": 55,
   "id": "f2d7481e",
   "metadata": {},
   "outputs": [],
   "source": [
    "# 16. Dropping row"
   ]
  },
  {
   "cell_type": "code",
   "execution_count": 56,
   "id": "fb6c772b",
   "metadata": {},
   "outputs": [
    {
     "data": {
      "text/html": [
       "<div>\n",
       "<style scoped>\n",
       "    .dataframe tbody tr th:only-of-type {\n",
       "        vertical-align: middle;\n",
       "    }\n",
       "\n",
       "    .dataframe tbody tr th {\n",
       "        vertical-align: top;\n",
       "    }\n",
       "\n",
       "    .dataframe thead th {\n",
       "        text-align: right;\n",
       "    }\n",
       "</style>\n",
       "<table border=\"1\" class=\"dataframe\">\n",
       "  <thead>\n",
       "    <tr style=\"text-align: right;\">\n",
       "      <th></th>\n",
       "      <th>PRN</th>\n",
       "      <th>NAME</th>\n",
       "      <th>COURSE</th>\n",
       "      <th>BRANCH</th>\n",
       "      <th>SESSION</th>\n",
       "      <th>10th Marks</th>\n",
       "      <th>12th Marks</th>\n",
       "      <th>Total Fee</th>\n",
       "    </tr>\n",
       "  </thead>\n",
       "  <tbody>\n",
       "    <tr>\n",
       "      <th>0</th>\n",
       "      <td>SUS52</td>\n",
       "      <td>Anand</td>\n",
       "      <td>B.Tech</td>\n",
       "      <td>CSE</td>\n",
       "      <td>19-23</td>\n",
       "      <td>368</td>\n",
       "      <td>337</td>\n",
       "      <td>75000</td>\n",
       "    </tr>\n",
       "    <tr>\n",
       "      <th>1</th>\n",
       "      <td>SUS13</td>\n",
       "      <td>Megha</td>\n",
       "      <td>B.Tech</td>\n",
       "      <td>CSE</td>\n",
       "      <td>19-23</td>\n",
       "      <td>430</td>\n",
       "      <td>355</td>\n",
       "      <td>70000</td>\n",
       "    </tr>\n",
       "    <tr>\n",
       "      <th>2</th>\n",
       "      <td>SUS59</td>\n",
       "      <td>Shivam</td>\n",
       "      <td>B.Tech</td>\n",
       "      <td>CSE</td>\n",
       "      <td>19-23</td>\n",
       "      <td>322</td>\n",
       "      <td>312</td>\n",
       "      <td>70000</td>\n",
       "    </tr>\n",
       "    <tr>\n",
       "      <th>6</th>\n",
       "      <td>SUS11</td>\n",
       "      <td>Deepak</td>\n",
       "      <td>BCA</td>\n",
       "      <td>IT</td>\n",
       "      <td>20-23</td>\n",
       "      <td>302</td>\n",
       "      <td>310</td>\n",
       "      <td>55000</td>\n",
       "    </tr>\n",
       "    <tr>\n",
       "      <th>7</th>\n",
       "      <td>SUS172</td>\n",
       "      <td>Aryant</td>\n",
       "      <td>B.Tech</td>\n",
       "      <td>ME</td>\n",
       "      <td>19-23</td>\n",
       "      <td>255</td>\n",
       "      <td>268</td>\n",
       "      <td>70000</td>\n",
       "    </tr>\n",
       "  </tbody>\n",
       "</table>\n",
       "</div>"
      ],
      "text/plain": [
       "      PRN    NAME  COURSE BRANCH SESSION  10th Marks  12th Marks  Total Fee\n",
       "0   SUS52   Anand  B.Tech    CSE   19-23         368         337      75000\n",
       "1   SUS13   Megha  B.Tech    CSE   19-23         430         355      70000\n",
       "2   SUS59  Shivam  B.Tech    CSE   19-23         322         312      70000\n",
       "6   SUS11  Deepak     BCA     IT   20-23         302         310      55000\n",
       "7  SUS172  Aryant  B.Tech     ME   19-23         255         268      70000"
      ]
     },
     "execution_count": 56,
     "metadata": {},
     "output_type": "execute_result"
    }
   ],
   "source": [
    "df.drop([3,4,5],axis=0)"
   ]
  },
  {
   "cell_type": "code",
   "execution_count": 57,
   "id": "471da5ab",
   "metadata": {},
   "outputs": [],
   "source": [
    "# 17. More pandas Functions"
   ]
  },
  {
   "cell_type": "code",
   "execution_count": 58,
   "id": "37ca1c23",
   "metadata": {},
   "outputs": [],
   "source": [
    "mf = pd.read_csv('student_marks.csv')"
   ]
  },
  {
   "cell_type": "code",
   "execution_count": 59,
   "id": "a34a8ab2",
   "metadata": {},
   "outputs": [
    {
     "data": {
      "text/html": [
       "<div>\n",
       "<style scoped>\n",
       "    .dataframe tbody tr th:only-of-type {\n",
       "        vertical-align: middle;\n",
       "    }\n",
       "\n",
       "    .dataframe tbody tr th {\n",
       "        vertical-align: top;\n",
       "    }\n",
       "\n",
       "    .dataframe thead th {\n",
       "        text-align: right;\n",
       "    }\n",
       "</style>\n",
       "<table border=\"1\" class=\"dataframe\">\n",
       "  <thead>\n",
       "    <tr style=\"text-align: right;\">\n",
       "      <th></th>\n",
       "      <th>C</th>\n",
       "      <th>C++</th>\n",
       "      <th>Java</th>\n",
       "      <th>Python</th>\n",
       "      <th>Database</th>\n",
       "      <th>DSA</th>\n",
       "      <th>Total Marks</th>\n",
       "    </tr>\n",
       "  </thead>\n",
       "  <tbody>\n",
       "    <tr>\n",
       "      <th>0</th>\n",
       "      <td>85</td>\n",
       "      <td>62</td>\n",
       "      <td>65</td>\n",
       "      <td>98</td>\n",
       "      <td>85</td>\n",
       "      <td>45</td>\n",
       "      <td>440</td>\n",
       "    </tr>\n",
       "    <tr>\n",
       "      <th>1</th>\n",
       "      <td>65</td>\n",
       "      <td>45</td>\n",
       "      <td>92</td>\n",
       "      <td>52</td>\n",
       "      <td>74</td>\n",
       "      <td>69</td>\n",
       "      <td>397</td>\n",
       "    </tr>\n",
       "    <tr>\n",
       "      <th>2</th>\n",
       "      <td>88</td>\n",
       "      <td>92</td>\n",
       "      <td>74</td>\n",
       "      <td>41</td>\n",
       "      <td>32</td>\n",
       "      <td>20</td>\n",
       "      <td>347</td>\n",
       "    </tr>\n",
       "    <tr>\n",
       "      <th>3</th>\n",
       "      <td>65</td>\n",
       "      <td>14</td>\n",
       "      <td>41</td>\n",
       "      <td>47</td>\n",
       "      <td>85</td>\n",
       "      <td>49</td>\n",
       "      <td>301</td>\n",
       "    </tr>\n",
       "    <tr>\n",
       "      <th>4</th>\n",
       "      <td>85</td>\n",
       "      <td>97</td>\n",
       "      <td>45</td>\n",
       "      <td>32</td>\n",
       "      <td>56</td>\n",
       "      <td>45</td>\n",
       "      <td>360</td>\n",
       "    </tr>\n",
       "    <tr>\n",
       "      <th>5</th>\n",
       "      <td>35</td>\n",
       "      <td>42</td>\n",
       "      <td>45</td>\n",
       "      <td>74</td>\n",
       "      <td>85</td>\n",
       "      <td>14</td>\n",
       "      <td>295</td>\n",
       "    </tr>\n",
       "  </tbody>\n",
       "</table>\n",
       "</div>"
      ],
      "text/plain": [
       "    C  C++  Java  Python   Database  DSA  Total Marks\n",
       "0  85   62    65       98        85   45          440\n",
       "1  65   45    92       52        74   69          397\n",
       "2  88   92    74       41        32   20          347\n",
       "3  65   14    41       47        85   49          301\n",
       "4  85   97    45       32        56   45          360\n",
       "5  35   42    45       74        85   14          295"
      ]
     },
     "execution_count": 59,
     "metadata": {},
     "output_type": "execute_result"
    }
   ],
   "source": [
    "mf"
   ]
  },
  {
   "cell_type": "code",
   "execution_count": 60,
   "id": "48fc4d5f",
   "metadata": {},
   "outputs": [
    {
     "data": {
      "text/plain": [
       "C               35\n",
       "C++             14\n",
       "Java            41\n",
       "Python          32\n",
       "Database        32\n",
       "DSA             14\n",
       "Total Marks    295\n",
       "dtype: int64"
      ]
     },
     "execution_count": 60,
     "metadata": {},
     "output_type": "execute_result"
    }
   ],
   "source": [
    "# min function\n",
    "mf.min()"
   ]
  },
  {
   "cell_type": "code",
   "execution_count": 61,
   "id": "edd8ef70",
   "metadata": {},
   "outputs": [
    {
     "data": {
      "text/plain": [
       "C               88\n",
       "C++             97\n",
       "Java            92\n",
       "Python          98\n",
       "Database        85\n",
       "DSA             69\n",
       "Total Marks    440\n",
       "dtype: int64"
      ]
     },
     "execution_count": 61,
     "metadata": {},
     "output_type": "execute_result"
    }
   ],
   "source": [
    "# max function\n",
    "mf.max()"
   ]
  },
  {
   "cell_type": "code",
   "execution_count": 62,
   "id": "744a4d19",
   "metadata": {},
   "outputs": [
    {
     "data": {
      "text/plain": [
       "C               70.500000\n",
       "C++             58.666667\n",
       "Java            60.333333\n",
       "Python          57.333333\n",
       "Database        69.500000\n",
       "DSA             40.333333\n",
       "Total Marks    356.666667\n",
       "dtype: float64"
      ]
     },
     "execution_count": 62,
     "metadata": {},
     "output_type": "execute_result"
    }
   ],
   "source": [
    "#mean function\n",
    "mf.mean()"
   ]
  },
  {
   "cell_type": "code",
   "execution_count": 63,
   "id": "9b41b4f9",
   "metadata": {},
   "outputs": [
    {
     "data": {
      "text/plain": [
       "C               75.0\n",
       "C++             53.5\n",
       "Java            55.0\n",
       "Python          49.5\n",
       "Database        79.5\n",
       "DSA             45.0\n",
       "Total Marks    353.5\n",
       "dtype: float64"
      ]
     },
     "execution_count": 63,
     "metadata": {},
     "output_type": "execute_result"
    }
   ],
   "source": [
    "#median function\n",
    "mf.median()"
   ]
  },
  {
   "cell_type": "code",
   "execution_count": 64,
   "id": "afe7f467",
   "metadata": {},
   "outputs": [
    {
     "data": {
      "text/html": [
       "<div>\n",
       "<style scoped>\n",
       "    .dataframe tbody tr th:only-of-type {\n",
       "        vertical-align: middle;\n",
       "    }\n",
       "\n",
       "    .dataframe tbody tr th {\n",
       "        vertical-align: top;\n",
       "    }\n",
       "\n",
       "    .dataframe thead th {\n",
       "        text-align: right;\n",
       "    }\n",
       "</style>\n",
       "<table border=\"1\" class=\"dataframe\">\n",
       "  <thead>\n",
       "    <tr style=\"text-align: right;\">\n",
       "      <th></th>\n",
       "      <th>C</th>\n",
       "      <th>C++</th>\n",
       "      <th>Java</th>\n",
       "      <th>Python</th>\n",
       "      <th>Database</th>\n",
       "      <th>DSA</th>\n",
       "      <th>Total Marks</th>\n",
       "    </tr>\n",
       "  </thead>\n",
       "  <tbody>\n",
       "    <tr>\n",
       "      <th>0</th>\n",
       "      <td>85</td>\n",
       "      <td>62</td>\n",
       "      <td>65</td>\n",
       "      <td>98</td>\n",
       "      <td>85</td>\n",
       "      <td>45</td>\n",
       "      <td>440</td>\n",
       "    </tr>\n",
       "    <tr>\n",
       "      <th>1</th>\n",
       "      <td>65</td>\n",
       "      <td>45</td>\n",
       "      <td>92</td>\n",
       "      <td>52</td>\n",
       "      <td>74</td>\n",
       "      <td>69</td>\n",
       "      <td>397</td>\n",
       "    </tr>\n",
       "    <tr>\n",
       "      <th>2</th>\n",
       "      <td>88</td>\n",
       "      <td>92</td>\n",
       "      <td>74</td>\n",
       "      <td>41</td>\n",
       "      <td>32</td>\n",
       "      <td>20</td>\n",
       "      <td>347</td>\n",
       "    </tr>\n",
       "    <tr>\n",
       "      <th>3</th>\n",
       "      <td>65</td>\n",
       "      <td>14</td>\n",
       "      <td>41</td>\n",
       "      <td>47</td>\n",
       "      <td>85</td>\n",
       "      <td>49</td>\n",
       "      <td>301</td>\n",
       "    </tr>\n",
       "    <tr>\n",
       "      <th>4</th>\n",
       "      <td>85</td>\n",
       "      <td>97</td>\n",
       "      <td>45</td>\n",
       "      <td>32</td>\n",
       "      <td>56</td>\n",
       "      <td>45</td>\n",
       "      <td>360</td>\n",
       "    </tr>\n",
       "    <tr>\n",
       "      <th>5</th>\n",
       "      <td>35</td>\n",
       "      <td>42</td>\n",
       "      <td>45</td>\n",
       "      <td>74</td>\n",
       "      <td>85</td>\n",
       "      <td>14</td>\n",
       "      <td>295</td>\n",
       "    </tr>\n",
       "  </tbody>\n",
       "</table>\n",
       "</div>"
      ],
      "text/plain": [
       "    C  C++  Java  Python   Database  DSA  Total Marks\n",
       "0  85   62    65       98        85   45          440\n",
       "1  65   45    92       52        74   69          397\n",
       "2  88   92    74       41        32   20          347\n",
       "3  65   14    41       47        85   49          301\n",
       "4  85   97    45       32        56   45          360\n",
       "5  35   42    45       74        85   14          295"
      ]
     },
     "execution_count": 64,
     "metadata": {},
     "output_type": "execute_result"
    }
   ],
   "source": [
    "mf"
   ]
  },
  {
   "cell_type": "code",
   "execution_count": 65,
   "id": "7b9fb1b5",
   "metadata": {},
   "outputs": [],
   "source": [
    "# half method\n",
    "def half(s):\n",
    "    return s*0.5"
   ]
  },
  {
   "cell_type": "code",
   "execution_count": 66,
   "id": "898a2086",
   "metadata": {},
   "outputs": [
    {
     "data": {
      "text/html": [
       "<div>\n",
       "<style scoped>\n",
       "    .dataframe tbody tr th:only-of-type {\n",
       "        vertical-align: middle;\n",
       "    }\n",
       "\n",
       "    .dataframe tbody tr th {\n",
       "        vertical-align: top;\n",
       "    }\n",
       "\n",
       "    .dataframe thead th {\n",
       "        text-align: right;\n",
       "    }\n",
       "</style>\n",
       "<table border=\"1\" class=\"dataframe\">\n",
       "  <thead>\n",
       "    <tr style=\"text-align: right;\">\n",
       "      <th></th>\n",
       "      <th>Java</th>\n",
       "      <th>Database</th>\n",
       "    </tr>\n",
       "  </thead>\n",
       "  <tbody>\n",
       "    <tr>\n",
       "      <th>0</th>\n",
       "      <td>32.5</td>\n",
       "      <td>42.5</td>\n",
       "    </tr>\n",
       "    <tr>\n",
       "      <th>1</th>\n",
       "      <td>46.0</td>\n",
       "      <td>37.0</td>\n",
       "    </tr>\n",
       "    <tr>\n",
       "      <th>2</th>\n",
       "      <td>37.0</td>\n",
       "      <td>16.0</td>\n",
       "    </tr>\n",
       "    <tr>\n",
       "      <th>3</th>\n",
       "      <td>20.5</td>\n",
       "      <td>42.5</td>\n",
       "    </tr>\n",
       "    <tr>\n",
       "      <th>4</th>\n",
       "      <td>22.5</td>\n",
       "      <td>28.0</td>\n",
       "    </tr>\n",
       "    <tr>\n",
       "      <th>5</th>\n",
       "      <td>22.5</td>\n",
       "      <td>42.5</td>\n",
       "    </tr>\n",
       "  </tbody>\n",
       "</table>\n",
       "</div>"
      ],
      "text/plain": [
       "   Java  Database\n",
       "0  32.5      42.5\n",
       "1  46.0      37.0\n",
       "2  37.0      16.0\n",
       "3  20.5      42.5\n",
       "4  22.5      28.0\n",
       "5  22.5      42.5"
      ]
     },
     "execution_count": 66,
     "metadata": {},
     "output_type": "execute_result"
    }
   ],
   "source": [
    "mf[['Java','Database']].apply(half)"
   ]
  },
  {
   "cell_type": "code",
   "execution_count": 67,
   "id": "095c2da0",
   "metadata": {},
   "outputs": [],
   "source": [
    "# 18. value_counts"
   ]
  },
  {
   "cell_type": "code",
   "execution_count": 68,
   "id": "e8bcb0a1",
   "metadata": {},
   "outputs": [
    {
     "data": {
      "text/plain": [
       "440    1\n",
       "397    1\n",
       "347    1\n",
       "301    1\n",
       "360    1\n",
       "295    1\n",
       "Name: Total Marks, dtype: int64"
      ]
     },
     "execution_count": 68,
     "metadata": {},
     "output_type": "execute_result"
    }
   ],
   "source": [
    "mf[\"Total Marks\"].value_counts()"
   ]
  },
  {
   "cell_type": "code",
   "execution_count": 69,
   "id": "69cb241d",
   "metadata": {},
   "outputs": [
    {
     "data": {
      "text/plain": [
       "85    2\n",
       "65    2\n",
       "88    1\n",
       "35    1\n",
       "Name: C, dtype: int64"
      ]
     },
     "execution_count": 69,
     "metadata": {},
     "output_type": "execute_result"
    }
   ],
   "source": [
    "mf[\"C\"].value_counts()"
   ]
  },
  {
   "cell_type": "code",
   "execution_count": 70,
   "id": "0719b3c6",
   "metadata": {},
   "outputs": [],
   "source": [
    "# sort_values"
   ]
  },
  {
   "cell_type": "code",
   "execution_count": 71,
   "id": "ca34b699",
   "metadata": {},
   "outputs": [
    {
     "data": {
      "text/html": [
       "<div>\n",
       "<style scoped>\n",
       "    .dataframe tbody tr th:only-of-type {\n",
       "        vertical-align: middle;\n",
       "    }\n",
       "\n",
       "    .dataframe tbody tr th {\n",
       "        vertical-align: top;\n",
       "    }\n",
       "\n",
       "    .dataframe thead th {\n",
       "        text-align: right;\n",
       "    }\n",
       "</style>\n",
       "<table border=\"1\" class=\"dataframe\">\n",
       "  <thead>\n",
       "    <tr style=\"text-align: right;\">\n",
       "      <th></th>\n",
       "      <th>C</th>\n",
       "      <th>C++</th>\n",
       "      <th>Java</th>\n",
       "      <th>Python</th>\n",
       "      <th>Database</th>\n",
       "      <th>DSA</th>\n",
       "      <th>Total Marks</th>\n",
       "    </tr>\n",
       "  </thead>\n",
       "  <tbody>\n",
       "    <tr>\n",
       "      <th>5</th>\n",
       "      <td>35</td>\n",
       "      <td>42</td>\n",
       "      <td>45</td>\n",
       "      <td>74</td>\n",
       "      <td>85</td>\n",
       "      <td>14</td>\n",
       "      <td>295</td>\n",
       "    </tr>\n",
       "    <tr>\n",
       "      <th>3</th>\n",
       "      <td>65</td>\n",
       "      <td>14</td>\n",
       "      <td>41</td>\n",
       "      <td>47</td>\n",
       "      <td>85</td>\n",
       "      <td>49</td>\n",
       "      <td>301</td>\n",
       "    </tr>\n",
       "    <tr>\n",
       "      <th>2</th>\n",
       "      <td>88</td>\n",
       "      <td>92</td>\n",
       "      <td>74</td>\n",
       "      <td>41</td>\n",
       "      <td>32</td>\n",
       "      <td>20</td>\n",
       "      <td>347</td>\n",
       "    </tr>\n",
       "    <tr>\n",
       "      <th>4</th>\n",
       "      <td>85</td>\n",
       "      <td>97</td>\n",
       "      <td>45</td>\n",
       "      <td>32</td>\n",
       "      <td>56</td>\n",
       "      <td>45</td>\n",
       "      <td>360</td>\n",
       "    </tr>\n",
       "    <tr>\n",
       "      <th>1</th>\n",
       "      <td>65</td>\n",
       "      <td>45</td>\n",
       "      <td>92</td>\n",
       "      <td>52</td>\n",
       "      <td>74</td>\n",
       "      <td>69</td>\n",
       "      <td>397</td>\n",
       "    </tr>\n",
       "    <tr>\n",
       "      <th>0</th>\n",
       "      <td>85</td>\n",
       "      <td>62</td>\n",
       "      <td>65</td>\n",
       "      <td>98</td>\n",
       "      <td>85</td>\n",
       "      <td>45</td>\n",
       "      <td>440</td>\n",
       "    </tr>\n",
       "  </tbody>\n",
       "</table>\n",
       "</div>"
      ],
      "text/plain": [
       "    C  C++  Java  Python   Database  DSA  Total Marks\n",
       "5  35   42    45       74        85   14          295\n",
       "3  65   14    41       47        85   49          301\n",
       "2  88   92    74       41        32   20          347\n",
       "4  85   97    45       32        56   45          360\n",
       "1  65   45    92       52        74   69          397\n",
       "0  85   62    65       98        85   45          440"
      ]
     },
     "execution_count": 71,
     "metadata": {},
     "output_type": "execute_result"
    }
   ],
   "source": [
    "mf.sort_values(by=\"Total Marks\")"
   ]
  },
  {
   "cell_type": "code",
   "execution_count": null,
   "id": "4eb62a9d",
   "metadata": {},
   "outputs": [],
   "source": []
  }
 ],
 "metadata": {
  "kernelspec": {
   "display_name": "Python 3 (ipykernel)",
   "language": "python",
   "name": "python3"
  },
  "language_info": {
   "codemirror_mode": {
    "name": "ipython",
    "version": 3
   },
   "file_extension": ".py",
   "mimetype": "text/x-python",
   "name": "python",
   "nbconvert_exporter": "python",
   "pygments_lexer": "ipython3",
   "version": "3.9.7"
  }
 },
 "nbformat": 4,
 "nbformat_minor": 5
}
