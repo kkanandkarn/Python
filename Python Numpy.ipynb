{
 "cells": [
  {
   "cell_type": "markdown",
   "id": "2413d292",
   "metadata": {},
   "source": [
    "# Numpy"
   ]
  },
  {
   "cell_type": "code",
   "execution_count": 3,
   "id": "63983a9a",
   "metadata": {},
   "outputs": [],
   "source": [
    "#Python Numpy"
   ]
  },
  {
   "cell_type": "code",
   "execution_count": 6,
   "id": "41fa10eb",
   "metadata": {},
   "outputs": [],
   "source": [
    "#importing python NumPy library\n",
    "import numpy as np"
   ]
  },
  {
   "cell_type": "code",
   "execution_count": 7,
   "id": "edd96012",
   "metadata": {},
   "outputs": [],
   "source": [
    "l1=[1,2,3,4]"
   ]
  },
  {
   "cell_type": "code",
   "execution_count": 8,
   "id": "d1536698",
   "metadata": {},
   "outputs": [],
   "source": [
    "#converting list into numpy array\n",
    "n1=np.array(l1)"
   ]
  },
  {
   "cell_type": "code",
   "execution_count": 9,
   "id": "8f3f1bfc",
   "metadata": {},
   "outputs": [
    {
     "data": {
      "text/plain": [
       "array([1, 2, 3, 4])"
      ]
     },
     "execution_count": 9,
     "metadata": {},
     "output_type": "execute_result"
    }
   ],
   "source": [
    "n1"
   ]
  },
  {
   "cell_type": "code",
   "execution_count": 10,
   "id": "a81377b8",
   "metadata": {},
   "outputs": [
    {
     "data": {
      "text/plain": [
       "numpy.ndarray"
      ]
     },
     "execution_count": 10,
     "metadata": {},
     "output_type": "execute_result"
    }
   ],
   "source": [
    "type(n1)"
   ]
  },
  {
   "cell_type": "code",
   "execution_count": 8,
   "id": "f7938006",
   "metadata": {},
   "outputs": [],
   "source": [
    "#creating Numpy multidimensional array\n",
    "n2=np.array([[1,2,3,4],[4,3,2,1]])"
   ]
  },
  {
   "cell_type": "code",
   "execution_count": 15,
   "id": "eed0b0ae",
   "metadata": {},
   "outputs": [
    {
     "data": {
      "text/plain": [
       "array([[1, 2, 3, 4],\n",
       "       [4, 3, 2, 1]])"
      ]
     },
     "execution_count": 15,
     "metadata": {},
     "output_type": "execute_result"
    }
   ],
   "source": [
    "n2"
   ]
  },
  {
   "cell_type": "code",
   "execution_count": 16,
   "id": "283793bc",
   "metadata": {},
   "outputs": [
    {
     "data": {
      "text/plain": [
       "numpy.ndarray"
      ]
     },
     "execution_count": 16,
     "metadata": {},
     "output_type": "execute_result"
    }
   ],
   "source": [
    "type(n2)"
   ]
  },
  {
   "cell_type": "code",
   "execution_count": 17,
   "id": "be132100",
   "metadata": {},
   "outputs": [],
   "source": [
    "# 2.initializing NumPy array with zeros"
   ]
  },
  {
   "cell_type": "code",
   "execution_count": 19,
   "id": "fc49f1b1",
   "metadata": {},
   "outputs": [],
   "source": [
    "n3=np.zeros((2,3))"
   ]
  },
  {
   "cell_type": "code",
   "execution_count": 20,
   "id": "945252d0",
   "metadata": {},
   "outputs": [
    {
     "data": {
      "text/plain": [
       "array([[0., 0., 0.],\n",
       "       [0., 0., 0.]])"
      ]
     },
     "execution_count": 20,
     "metadata": {},
     "output_type": "execute_result"
    }
   ],
   "source": [
    "n3"
   ]
  },
  {
   "cell_type": "code",
   "execution_count": 21,
   "id": "06476995",
   "metadata": {},
   "outputs": [],
   "source": [
    "n3=np.zeros((5,5))"
   ]
  },
  {
   "cell_type": "code",
   "execution_count": 22,
   "id": "70f2c51a",
   "metadata": {},
   "outputs": [
    {
     "data": {
      "text/plain": [
       "array([[0., 0., 0., 0., 0.],\n",
       "       [0., 0., 0., 0., 0.],\n",
       "       [0., 0., 0., 0., 0.],\n",
       "       [0., 0., 0., 0., 0.],\n",
       "       [0., 0., 0., 0., 0.]])"
      ]
     },
     "execution_count": 22,
     "metadata": {},
     "output_type": "execute_result"
    }
   ],
   "source": [
    "n3"
   ]
  },
  {
   "cell_type": "code",
   "execution_count": 24,
   "id": "16193b4b",
   "metadata": {},
   "outputs": [],
   "source": [
    "# 3. Initializing NumPy array with same numbers."
   ]
  },
  {
   "cell_type": "code",
   "execution_count": 26,
   "id": "117a9956",
   "metadata": {},
   "outputs": [],
   "source": [
    "n4=np.full((3,3),10)"
   ]
  },
  {
   "cell_type": "code",
   "execution_count": 27,
   "id": "f45d10cd",
   "metadata": {},
   "outputs": [
    {
     "data": {
      "text/plain": [
       "array([[10, 10, 10],\n",
       "       [10, 10, 10],\n",
       "       [10, 10, 10]])"
      ]
     },
     "execution_count": 27,
     "metadata": {},
     "output_type": "execute_result"
    }
   ],
   "source": [
    "n4"
   ]
  },
  {
   "cell_type": "code",
   "execution_count": 1,
   "id": "e750cd4e",
   "metadata": {},
   "outputs": [],
   "source": [
    "# 4. initializing NumPy array within a range"
   ]
  },
  {
   "cell_type": "code",
   "execution_count": 3,
   "id": "5935a14c",
   "metadata": {},
   "outputs": [],
   "source": [
    "import numpy as np\n",
    "n1= np.arange(50,100)"
   ]
  },
  {
   "cell_type": "code",
   "execution_count": 4,
   "id": "18861aff",
   "metadata": {},
   "outputs": [
    {
     "data": {
      "text/plain": [
       "array([50, 51, 52, 53, 54, 55, 56, 57, 58, 59, 60, 61, 62, 63, 64, 65, 66,\n",
       "       67, 68, 69, 70, 71, 72, 73, 74, 75, 76, 77, 78, 79, 80, 81, 82, 83,\n",
       "       84, 85, 86, 87, 88, 89, 90, 91, 92, 93, 94, 95, 96, 97, 98, 99])"
      ]
     },
     "execution_count": 4,
     "metadata": {},
     "output_type": "execute_result"
    }
   ],
   "source": [
    "n1"
   ]
  },
  {
   "cell_type": "code",
   "execution_count": 5,
   "id": "ed2a439f",
   "metadata": {},
   "outputs": [],
   "source": [
    "#initializing NumPy array within a range with gap"
   ]
  },
  {
   "cell_type": "code",
   "execution_count": 6,
   "id": "bc3e4822",
   "metadata": {},
   "outputs": [],
   "source": [
    "n2 = np.arange(10,100,10)"
   ]
  },
  {
   "cell_type": "code",
   "execution_count": 7,
   "id": "b712f9d3",
   "metadata": {},
   "outputs": [
    {
     "data": {
      "text/plain": [
       "array([10, 20, 30, 40, 50, 60, 70, 80, 90])"
      ]
     },
     "execution_count": 7,
     "metadata": {},
     "output_type": "execute_result"
    }
   ],
   "source": [
    "n2"
   ]
  },
  {
   "cell_type": "code",
   "execution_count": 9,
   "id": "712d3709",
   "metadata": {},
   "outputs": [],
   "source": [
    "# 5. Initializing NumPy array with random numbers "
   ]
  },
  {
   "cell_type": "code",
   "execution_count": 11,
   "id": "436c64ec",
   "metadata": {},
   "outputs": [
    {
     "data": {
      "text/plain": [
       "array([155, 151, 138, 176, 102, 116, 176, 169, 147, 117])"
      ]
     },
     "execution_count": 11,
     "metadata": {},
     "output_type": "execute_result"
    }
   ],
   "source": [
    "np.random.randint(100,200,10)"
   ]
  },
  {
   "cell_type": "code",
   "execution_count": 12,
   "id": "c05a679b",
   "metadata": {},
   "outputs": [
    {
     "data": {
      "text/plain": [
       "array([155, 126, 152, 130, 134, 143, 161, 126, 166, 159])"
      ]
     },
     "execution_count": 12,
     "metadata": {},
     "output_type": "execute_result"
    }
   ],
   "source": [
    "np.random.randint(100,200,10)"
   ]
  },
  {
   "cell_type": "code",
   "execution_count": 1,
   "id": "dc20d57c",
   "metadata": {},
   "outputs": [],
   "source": [
    "# 6. Cheking the shape of NumPy array "
   ]
  },
  {
   "cell_type": "code",
   "execution_count": 2,
   "id": "4be00ba3",
   "metadata": {},
   "outputs": [],
   "source": [
    "import numpy as np"
   ]
  },
  {
   "cell_type": "code",
   "execution_count": 3,
   "id": "def070fa",
   "metadata": {},
   "outputs": [],
   "source": [
    "n1 = np.array([[1,2,3,4],[4,3,2,1]])"
   ]
  },
  {
   "cell_type": "code",
   "execution_count": 4,
   "id": "93f3b38e",
   "metadata": {},
   "outputs": [
    {
     "data": {
      "text/plain": [
       "array([[1, 2, 3, 4],\n",
       "       [4, 3, 2, 1]])"
      ]
     },
     "execution_count": 4,
     "metadata": {},
     "output_type": "execute_result"
    }
   ],
   "source": [
    "n1"
   ]
  },
  {
   "cell_type": "code",
   "execution_count": 6,
   "id": "68bc1d55",
   "metadata": {},
   "outputs": [
    {
     "data": {
      "text/plain": [
       "(2, 4)"
      ]
     },
     "execution_count": 6,
     "metadata": {},
     "output_type": "execute_result"
    }
   ],
   "source": [
    "#checking shape of n1\n",
    "n1.shape"
   ]
  },
  {
   "cell_type": "code",
   "execution_count": 8,
   "id": "196d49d8",
   "metadata": {},
   "outputs": [],
   "source": [
    "# changing shape of NumPy array\n",
    "n1.shape = (4,2)"
   ]
  },
  {
   "cell_type": "code",
   "execution_count": 9,
   "id": "5a999349",
   "metadata": {},
   "outputs": [
    {
     "data": {
      "text/plain": [
       "array([[1, 2],\n",
       "       [3, 4],\n",
       "       [4, 3],\n",
       "       [2, 1]])"
      ]
     },
     "execution_count": 9,
     "metadata": {},
     "output_type": "execute_result"
    }
   ],
   "source": [
    "n1"
   ]
  },
  {
   "cell_type": "code",
   "execution_count": 10,
   "id": "3884aedc",
   "metadata": {},
   "outputs": [
    {
     "data": {
      "text/plain": [
       "(4, 2)"
      ]
     },
     "execution_count": 10,
     "metadata": {},
     "output_type": "execute_result"
    }
   ],
   "source": [
    "n1.shape"
   ]
  },
  {
   "cell_type": "code",
   "execution_count": 19,
   "id": "852d379b",
   "metadata": {},
   "outputs": [],
   "source": [
    "#modifying NumPy array\n",
    "# Create a 5 * 2 Matrix with all zeros\n",
    "np_arr = np.zeros((5,2))"
   ]
  },
  {
   "cell_type": "code",
   "execution_count": 20,
   "id": "25e6e3a7",
   "metadata": {},
   "outputs": [
    {
     "data": {
      "text/plain": [
       "array([[0., 0.],\n",
       "       [0., 0.],\n",
       "       [0., 0.],\n",
       "       [0., 0.],\n",
       "       [0., 0.]])"
      ]
     },
     "execution_count": 20,
     "metadata": {},
     "output_type": "execute_result"
    }
   ],
   "source": [
    "np_arr"
   ]
  },
  {
   "cell_type": "code",
   "execution_count": 21,
   "id": "21925cc6",
   "metadata": {},
   "outputs": [],
   "source": [
    "# Put 1 to the 5 * 2 Matrix\n",
    "np.put(np_arr, range(10), np.ones((5,2)))"
   ]
  },
  {
   "cell_type": "code",
   "execution_count": 22,
   "id": "fdfe3e27",
   "metadata": {},
   "outputs": [
    {
     "data": {
      "text/plain": [
       "array([[1., 1.],\n",
       "       [1., 1.],\n",
       "       [1., 1.],\n",
       "       [1., 1.],\n",
       "       [1., 1.]])"
      ]
     },
     "execution_count": 22,
     "metadata": {},
     "output_type": "execute_result"
    }
   ],
   "source": [
    "np_arr"
   ]
  },
  {
   "cell_type": "code",
   "execution_count": 23,
   "id": "5b08f423",
   "metadata": {},
   "outputs": [],
   "source": [
    "np.put(np_arr, range(10), [1,2,3,4,5,6,7,8,9,0])"
   ]
  },
  {
   "cell_type": "code",
   "execution_count": 18,
   "id": "efc700de",
   "metadata": {},
   "outputs": [
    {
     "data": {
      "text/plain": [
       "array([[1., 2.],\n",
       "       [3., 4.],\n",
       "       [5., 6.],\n",
       "       [7., 8.],\n",
       "       [9., 0.]])"
      ]
     },
     "execution_count": 18,
     "metadata": {},
     "output_type": "execute_result"
    }
   ],
   "source": [
    "np_arr"
   ]
  },
  {
   "cell_type": "code",
   "execution_count": 24,
   "id": "3c50091a",
   "metadata": {},
   "outputs": [],
   "source": [
    "# 7. Joining NumPy array"
   ]
  },
  {
   "cell_type": "code",
   "execution_count": 25,
   "id": "0eab2b8c",
   "metadata": {},
   "outputs": [],
   "source": [
    "n1 = [1,2,3]"
   ]
  },
  {
   "cell_type": "code",
   "execution_count": 26,
   "id": "4e4eb21c",
   "metadata": {},
   "outputs": [],
   "source": [
    "n2 = [4,5,6]"
   ]
  },
  {
   "cell_type": "code",
   "execution_count": 29,
   "id": "2ba0affe",
   "metadata": {},
   "outputs": [
    {
     "data": {
      "text/plain": [
       "array([[1, 2, 3],\n",
       "       [4, 5, 6]])"
      ]
     },
     "execution_count": 29,
     "metadata": {},
     "output_type": "execute_result"
    }
   ],
   "source": [
    "#vertical stack\n",
    "np.vstack((n1,n2))"
   ]
  },
  {
   "cell_type": "code",
   "execution_count": 30,
   "id": "1a4e4019",
   "metadata": {},
   "outputs": [
    {
     "data": {
      "text/plain": [
       "array([1, 2, 3, 4, 5, 6])"
      ]
     },
     "execution_count": 30,
     "metadata": {},
     "output_type": "execute_result"
    }
   ],
   "source": [
    "# horizontal stack\n",
    "np.hstack((n1,n2))"
   ]
  },
  {
   "cell_type": "code",
   "execution_count": 32,
   "id": "b461ce95",
   "metadata": {},
   "outputs": [
    {
     "data": {
      "text/plain": [
       "array([[1, 4],\n",
       "       [2, 5],\n",
       "       [3, 6]])"
      ]
     },
     "execution_count": 32,
     "metadata": {},
     "output_type": "execute_result"
    }
   ],
   "source": [
    "# column stack\n",
    "np.column_stack((n1,n2))"
   ]
  },
  {
   "cell_type": "code",
   "execution_count": 1,
   "id": "d1a0ffd9",
   "metadata": {},
   "outputs": [],
   "source": [
    "# 8. Union, Intersection and difference operation on NumPy arrays"
   ]
  },
  {
   "cell_type": "code",
   "execution_count": 2,
   "id": "37216599",
   "metadata": {},
   "outputs": [],
   "source": [
    "import numpy as np"
   ]
  },
  {
   "cell_type": "code",
   "execution_count": 3,
   "id": "bd1d29b3",
   "metadata": {},
   "outputs": [],
   "source": [
    "n1 = np.array([10,20,30,40,50,60])\n",
    "n2 = np.array([50,60,70,80,90])"
   ]
  },
  {
   "cell_type": "code",
   "execution_count": 5,
   "id": "787ccf81",
   "metadata": {},
   "outputs": [
    {
     "data": {
      "text/plain": [
       "array([10, 20, 30, 40, 50, 60, 70, 80, 90])"
      ]
     },
     "execution_count": 5,
     "metadata": {},
     "output_type": "execute_result"
    }
   ],
   "source": [
    "#NumPy union\n",
    "np.union1d(n1,n2)"
   ]
  },
  {
   "cell_type": "code",
   "execution_count": 6,
   "id": "231d560f",
   "metadata": {},
   "outputs": [
    {
     "data": {
      "text/plain": [
       "array([50, 60])"
      ]
     },
     "execution_count": 6,
     "metadata": {},
     "output_type": "execute_result"
    }
   ],
   "source": [
    "# NumPy Intersection\n",
    "np.intersect1d(n1,n2)"
   ]
  },
  {
   "cell_type": "code",
   "execution_count": 9,
   "id": "5f031383",
   "metadata": {},
   "outputs": [
    {
     "data": {
      "text/plain": [
       "array([10, 20, 30, 40])"
      ]
     },
     "execution_count": 9,
     "metadata": {},
     "output_type": "execute_result"
    }
   ],
   "source": [
    "# NumPy difference in n1\n",
    "np.setdiff1d(n1,n2)"
   ]
  },
  {
   "cell_type": "code",
   "execution_count": 10,
   "id": "0325831d",
   "metadata": {},
   "outputs": [
    {
     "data": {
      "text/plain": [
       "array([70, 80, 90])"
      ]
     },
     "execution_count": 10,
     "metadata": {},
     "output_type": "execute_result"
    }
   ],
   "source": [
    "# NumPy difference in n2\n",
    "np.setdiff1d(n2,n1)"
   ]
  },
  {
   "cell_type": "code",
   "execution_count": 12,
   "id": "617a3bb1",
   "metadata": {},
   "outputs": [],
   "source": [
    "#9.  NumPy array Mathematics"
   ]
  },
  {
   "cell_type": "code",
   "execution_count": 14,
   "id": "3fec9a60",
   "metadata": {},
   "outputs": [],
   "source": [
    "#Addition of NumPy arrays "
   ]
  },
  {
   "cell_type": "code",
   "execution_count": 15,
   "id": "7e9132db",
   "metadata": {},
   "outputs": [],
   "source": [
    "n1 = np.array([10,20])\n",
    "n2 = np.array([30,40])"
   ]
  },
  {
   "cell_type": "code",
   "execution_count": 16,
   "id": "a2983c89",
   "metadata": {},
   "outputs": [
    {
     "data": {
      "text/plain": [
       "100"
      ]
     },
     "execution_count": 16,
     "metadata": {},
     "output_type": "execute_result"
    }
   ],
   "source": [
    "np.sum([n1,n2])"
   ]
  },
  {
   "cell_type": "code",
   "execution_count": 23,
   "id": "29423627",
   "metadata": {},
   "outputs": [
    {
     "data": {
      "text/plain": [
       "array([40, 60])"
      ]
     },
     "execution_count": 23,
     "metadata": {},
     "output_type": "execute_result"
    }
   ],
   "source": [
    "# adding elements of column\n",
    "np.sum([n1,n2],axis=0)"
   ]
  },
  {
   "cell_type": "code",
   "execution_count": 24,
   "id": "731a34bd",
   "metadata": {},
   "outputs": [
    {
     "data": {
      "text/plain": [
       "array([30, 70])"
      ]
     },
     "execution_count": 24,
     "metadata": {},
     "output_type": "execute_result"
    }
   ],
   "source": [
    "#adding elements of row\n",
    "np.sum([n1,n2],axis=1)"
   ]
  },
  {
   "cell_type": "code",
   "execution_count": 1,
   "id": "03bf10a7",
   "metadata": {},
   "outputs": [],
   "source": [
    "# 10. Performing Operations with scalar values on NumPy array"
   ]
  },
  {
   "cell_type": "code",
   "execution_count": 2,
   "id": "8926bb03",
   "metadata": {},
   "outputs": [],
   "source": [
    "import numpy as np"
   ]
  },
  {
   "cell_type": "code",
   "execution_count": 3,
   "id": "6ef8044b",
   "metadata": {},
   "outputs": [],
   "source": [
    "n1 = np.array([10,20,30])"
   ]
  },
  {
   "cell_type": "code",
   "execution_count": 4,
   "id": "d4964a5b",
   "metadata": {},
   "outputs": [
    {
     "data": {
      "text/plain": [
       "array([15, 25, 35])"
      ]
     },
     "execution_count": 4,
     "metadata": {},
     "output_type": "execute_result"
    }
   ],
   "source": [
    "#Addtion with scalar value on NumPy array\n",
    "n1+5"
   ]
  },
  {
   "cell_type": "code",
   "execution_count": 5,
   "id": "47b0c99c",
   "metadata": {},
   "outputs": [
    {
     "data": {
      "text/plain": [
       "array([ 5, 15, 25])"
      ]
     },
     "execution_count": 5,
     "metadata": {},
     "output_type": "execute_result"
    }
   ],
   "source": [
    "#Substraction with scalar value on NumPy array\n",
    "n1-5"
   ]
  },
  {
   "cell_type": "code",
   "execution_count": 6,
   "id": "5a99d9f3",
   "metadata": {},
   "outputs": [
    {
     "data": {
      "text/plain": [
       "array([100, 200, 300])"
      ]
     },
     "execution_count": 6,
     "metadata": {},
     "output_type": "execute_result"
    }
   ],
   "source": [
    "#Multiplication with scalar value on NumPy array\n",
    "n1*10"
   ]
  },
  {
   "cell_type": "code",
   "execution_count": 7,
   "id": "c5c947f8",
   "metadata": {},
   "outputs": [
    {
     "data": {
      "text/plain": [
       "array([ 5., 10., 15.])"
      ]
     },
     "execution_count": 7,
     "metadata": {},
     "output_type": "execute_result"
    }
   ],
   "source": [
    "#Division with scalar value on NumPy array\n",
    "n1/2"
   ]
  },
  {
   "cell_type": "code",
   "execution_count": 8,
   "id": "e92d68e0",
   "metadata": {},
   "outputs": [],
   "source": [
    "# 11. NumPy Math Functions"
   ]
  },
  {
   "cell_type": "code",
   "execution_count": 9,
   "id": "60a618b2",
   "metadata": {},
   "outputs": [],
   "source": [
    "n1 = np.random.randint(1,50,10)"
   ]
  },
  {
   "cell_type": "code",
   "execution_count": 10,
   "id": "a459b28a",
   "metadata": {},
   "outputs": [
    {
     "data": {
      "text/plain": [
       "array([ 9,  6,  3, 47, 48, 40, 23,  5,  1, 32])"
      ]
     },
     "execution_count": 10,
     "metadata": {},
     "output_type": "execute_result"
    }
   ],
   "source": [
    "n1"
   ]
  },
  {
   "cell_type": "code",
   "execution_count": 11,
   "id": "6440656d",
   "metadata": {},
   "outputs": [
    {
     "data": {
      "text/plain": [
       "21.4"
      ]
     },
     "execution_count": 11,
     "metadata": {},
     "output_type": "execute_result"
    }
   ],
   "source": [
    "#mean \n",
    "np.mean(n1)"
   ]
  },
  {
   "cell_type": "code",
   "execution_count": 12,
   "id": "e5e96bfb",
   "metadata": {},
   "outputs": [
    {
     "data": {
      "text/plain": [
       "16.0"
      ]
     },
     "execution_count": 12,
     "metadata": {},
     "output_type": "execute_result"
    }
   ],
   "source": [
    "#median\n",
    "np.median(n1)"
   ]
  },
  {
   "cell_type": "code",
   "execution_count": 13,
   "id": "af906022",
   "metadata": {},
   "outputs": [
    {
     "ename": "AttributeError",
     "evalue": "module 'numpy' has no attribute 'mode'",
     "output_type": "error",
     "traceback": [
      "\u001b[1;31m---------------------------------------------------------------------------\u001b[0m",
      "\u001b[1;31mAttributeError\u001b[0m                            Traceback (most recent call last)",
      "\u001b[1;32m~\\AppData\\Local\\Temp/ipykernel_26432/2947307603.py\u001b[0m in \u001b[0;36m<module>\u001b[1;34m\u001b[0m\n\u001b[1;32m----> 1\u001b[1;33m \u001b[0mnp\u001b[0m\u001b[1;33m.\u001b[0m\u001b[0mmode\u001b[0m\u001b[1;33m(\u001b[0m\u001b[0mn1\u001b[0m\u001b[1;33m)\u001b[0m\u001b[1;33m\u001b[0m\u001b[1;33m\u001b[0m\u001b[0m\n\u001b[0m",
      "\u001b[1;32m~\\anaconda3\\lib\\site-packages\\numpy\\__init__.py\u001b[0m in \u001b[0;36m__getattr__\u001b[1;34m(attr)\u001b[0m\n\u001b[0;32m    301\u001b[0m                 \u001b[1;32mreturn\u001b[0m \u001b[0mTester\u001b[0m\u001b[1;33m\u001b[0m\u001b[1;33m\u001b[0m\u001b[0m\n\u001b[0;32m    302\u001b[0m \u001b[1;33m\u001b[0m\u001b[0m\n\u001b[1;32m--> 303\u001b[1;33m             raise AttributeError(\"module {!r} has no attribute \"\n\u001b[0m\u001b[0;32m    304\u001b[0m                                  \"{!r}\".format(__name__, attr))\n\u001b[0;32m    305\u001b[0m \u001b[1;33m\u001b[0m\u001b[0m\n",
      "\u001b[1;31mAttributeError\u001b[0m: module 'numpy' has no attribute 'mode'"
     ]
    }
   ],
   "source": [
    "np.mode(n1)"
   ]
  },
  {
   "cell_type": "code",
   "execution_count": 14,
   "id": "d8d8b9a0",
   "metadata": {},
   "outputs": [],
   "source": [
    "# there are two more methods left: mode and standard deviation\n",
    "# I leave it beacause it's the part of statistics."
   ]
  },
  {
   "cell_type": "code",
   "execution_count": 15,
   "id": "22cfe803",
   "metadata": {},
   "outputs": [],
   "source": [
    "#12. NumPy Save and Load"
   ]
  },
  {
   "cell_type": "code",
   "execution_count": 16,
   "id": "f5ba6f69",
   "metadata": {},
   "outputs": [],
   "source": [
    "n1 = np.array([10,20,30,40,50])"
   ]
  },
  {
   "cell_type": "code",
   "execution_count": 17,
   "id": "f35f4e1f",
   "metadata": {},
   "outputs": [
    {
     "data": {
      "text/plain": [
       "array([10, 20, 30, 40, 50])"
      ]
     },
     "execution_count": 17,
     "metadata": {},
     "output_type": "execute_result"
    }
   ],
   "source": [
    "n1"
   ]
  },
  {
   "cell_type": "code",
   "execution_count": 18,
   "id": "d339b10b",
   "metadata": {},
   "outputs": [],
   "source": [
    "#saving NumPy array\n",
    "np.save('my_array',n1)"
   ]
  },
  {
   "cell_type": "code",
   "execution_count": 20,
   "id": "4ed20b39",
   "metadata": {},
   "outputs": [],
   "source": [
    "#loading saved NumPy array\n",
    "new_n1=np.load('my_array.npy')"
   ]
  },
  {
   "cell_type": "code",
   "execution_count": 21,
   "id": "ad4043e6",
   "metadata": {},
   "outputs": [
    {
     "data": {
      "text/plain": [
       "array([10, 20, 30, 40, 50])"
      ]
     },
     "execution_count": 21,
     "metadata": {},
     "output_type": "execute_result"
    }
   ],
   "source": [
    "new_n1"
   ]
  },
  {
   "cell_type": "code",
   "execution_count": null,
   "id": "d6f62bb4",
   "metadata": {},
   "outputs": [],
   "source": []
  }
 ],
 "metadata": {
  "kernelspec": {
   "display_name": "Python 3 (ipykernel)",
   "language": "python",
   "name": "python3"
  },
  "language_info": {
   "codemirror_mode": {
    "name": "ipython",
    "version": 3
   },
   "file_extension": ".py",
   "mimetype": "text/x-python",
   "name": "python",
   "nbconvert_exporter": "python",
   "pygments_lexer": "ipython3",
   "version": "3.9.7"
  }
 },
 "nbformat": 4,
 "nbformat_minor": 5
}
