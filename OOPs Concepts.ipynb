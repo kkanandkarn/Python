{
 "cells": [
  {
   "cell_type": "code",
   "execution_count": 1,
   "id": "b28bef5d",
   "metadata": {},
   "outputs": [],
   "source": [
    "class Phone:\n",
    "    def make_call(self):\n",
    "        print(\"Making call\")\n",
    "    def play_game(self):\n",
    "        print('Playing game')"
   ]
  },
  {
   "cell_type": "code",
   "execution_count": 2,
   "id": "6c987df3",
   "metadata": {},
   "outputs": [],
   "source": [
    "p1=Phone()"
   ]
  },
  {
   "cell_type": "code",
   "execution_count": 3,
   "id": "95047946",
   "metadata": {},
   "outputs": [
    {
     "name": "stdout",
     "output_type": "stream",
     "text": [
      "Making call\n"
     ]
    }
   ],
   "source": [
    "p1.make_call()"
   ]
  },
  {
   "cell_type": "code",
   "execution_count": 4,
   "id": "6e2b4e1e",
   "metadata": {},
   "outputs": [
    {
     "name": "stdout",
     "output_type": "stream",
     "text": [
      "Playing game\n"
     ]
    }
   ],
   "source": [
    "p1.play_game()"
   ]
  },
  {
   "cell_type": "code",
   "execution_count": 5,
   "id": "8f964f72",
   "metadata": {},
   "outputs": [],
   "source": [
    "class Phone:\n",
    "    def set_color(self,color,wheel):\n",
    "        self.color=color\n",
    "        self.wheel=wheel\n",
    "    def show_color(self):\n",
    "        return self.color\n",
    "        return wheel\n",
    "    def set_cost(cost):\n",
    "        cost=cost\n",
    "        return cost "
   ]
  },
  {
   "cell_type": "code",
   "execution_count": 6,
   "id": "c58bd55c",
   "metadata": {},
   "outputs": [],
   "source": [
    "p1=Phone()"
   ]
  },
  {
   "cell_type": "code",
   "execution_count": 7,
   "id": "8b132c63",
   "metadata": {},
   "outputs": [],
   "source": [
    "p1.set_color('anand',4)"
   ]
  },
  {
   "cell_type": "code",
   "execution_count": 8,
   "id": "32b718fa",
   "metadata": {},
   "outputs": [
    {
     "data": {
      "text/plain": [
       "'anand'"
      ]
     },
     "execution_count": 8,
     "metadata": {},
     "output_type": "execute_result"
    }
   ],
   "source": [
    "p1.show_color()"
   ]
  },
  {
   "cell_type": "code",
   "execution_count": 9,
   "id": "c8d0fdba",
   "metadata": {},
   "outputs": [
    {
     "ename": "TypeError",
     "evalue": "set_cost() takes 1 positional argument but 2 were given",
     "output_type": "error",
     "traceback": [
      "\u001b[1;31m---------------------------------------------------------------------------\u001b[0m",
      "\u001b[1;31mTypeError\u001b[0m                                 Traceback (most recent call last)",
      "\u001b[1;32m~\\AppData\\Local\\Temp/ipykernel_2812/564319290.py\u001b[0m in \u001b[0;36m<module>\u001b[1;34m\u001b[0m\n\u001b[1;32m----> 1\u001b[1;33m \u001b[0mp1\u001b[0m\u001b[1;33m.\u001b[0m\u001b[0mset_cost\u001b[0m\u001b[1;33m(\u001b[0m\u001b[1;36m5000\u001b[0m\u001b[1;33m)\u001b[0m\u001b[1;33m\u001b[0m\u001b[1;33m\u001b[0m\u001b[0m\n\u001b[0m",
      "\u001b[1;31mTypeError\u001b[0m: set_cost() takes 1 positional argument but 2 were given"
     ]
    }
   ],
   "source": [
    "p1.set_cost(5000)"
   ]
  },
  {
   "cell_type": "code",
   "execution_count": 10,
   "id": "081663f5",
   "metadata": {},
   "outputs": [],
   "source": [
    "def add(x,y):\n",
    "    return x+y"
   ]
  },
  {
   "cell_type": "code",
   "execution_count": 11,
   "id": "d9f49a53",
   "metadata": {},
   "outputs": [
    {
     "data": {
      "text/plain": [
       "11"
      ]
     },
     "execution_count": 11,
     "metadata": {},
     "output_type": "execute_result"
    }
   ],
   "source": [
    "add(5,6)"
   ]
  },
  {
   "cell_type": "code",
   "execution_count": 12,
   "id": "fc651336",
   "metadata": {},
   "outputs": [],
   "source": [
    "# constructor: with the help of constructor we can assign the value at the time of object creation.\n",
    "# __init__ method is used to define a constructor"
   ]
  },
  {
   "cell_type": "code",
   "execution_count": 13,
   "id": "5f8c8df1",
   "metadata": {},
   "outputs": [],
   "source": [
    "class Employee:\n",
    "    def __init__(self,name,salary,age,dept):\n",
    "        self.name=name\n",
    "        self.salary=salary\n",
    "        self.age=age\n",
    "        self.dept=dept\n",
    "        \n",
    "    def employee_details(self):\n",
    "        print(\"Name of employee is:\",self.name)\n",
    "        print(\"Salary of employee is:\",self.salary)\n",
    "        print(\"age of employee is:\",self.age)\n",
    "        print(\"dept of employee is:\",self.dept)"
   ]
  },
  {
   "cell_type": "code",
   "execution_count": 14,
   "id": "723e9a3f",
   "metadata": {},
   "outputs": [],
   "source": [
    "e1=Employee('anand','90000',35,'CSE')"
   ]
  },
  {
   "cell_type": "code",
   "execution_count": 15,
   "id": "f2fd444d",
   "metadata": {},
   "outputs": [
    {
     "name": "stdout",
     "output_type": "stream",
     "text": [
      "Name of employee is: anand\n",
      "Salary of employee is: 90000\n",
      "age of employee is: 35\n",
      "dept of employee is: CSE\n"
     ]
    }
   ],
   "source": [
    "e1.employee_details()"
   ]
  },
  {
   "cell_type": "code",
   "execution_count": 16,
   "id": "c3ee6638",
   "metadata": {},
   "outputs": [],
   "source": [
    "# Inheritance: Inheritance is noting but ability of a class to acquire or inherit the property of another class"
   ]
  },
  {
   "cell_type": "code",
   "execution_count": 17,
   "id": "c4873115",
   "metadata": {},
   "outputs": [],
   "source": [
    "#parent class\n",
    "class Vehicle:\n",
    "    def __init__(self,mileage,cost):\n",
    "        self.mileage=mileage\n",
    "        self.cost=cost\n",
    "    def show(self):\n",
    "        print('I am Vehicle')\n",
    "        print('Mileage of vehicle is',self.mileage)\n",
    "        print('cost of vehicle is:',self.cost)"
   ]
  },
  {
   "cell_type": "code",
   "execution_count": 18,
   "id": "21e978f1",
   "metadata": {},
   "outputs": [],
   "source": [
    "#child class\n",
    "class bike(Vehicle):\n",
    "    def show_bike(self):\n",
    "        print('I am a bike')"
   ]
  },
  {
   "cell_type": "code",
   "execution_count": 19,
   "id": "341f686c",
   "metadata": {},
   "outputs": [],
   "source": [
    "b1=bike(60,75000)"
   ]
  },
  {
   "cell_type": "code",
   "execution_count": 20,
   "id": "c044cc6a",
   "metadata": {},
   "outputs": [
    {
     "name": "stdout",
     "output_type": "stream",
     "text": [
      "I am Vehicle\n",
      "Mileage of vehicle is 60\n",
      "cost of vehicle is: 75000\n"
     ]
    }
   ],
   "source": [
    "b1.show()"
   ]
  },
  {
   "cell_type": "code",
   "execution_count": 21,
   "id": "ca0ca434",
   "metadata": {},
   "outputs": [
    {
     "name": "stdout",
     "output_type": "stream",
     "text": [
      "I am a bike\n"
     ]
    }
   ],
   "source": [
    "b1.show_bike()"
   ]
  },
  {
   "cell_type": "code",
   "execution_count": 22,
   "id": "5b222dce",
   "metadata": {},
   "outputs": [],
   "source": [
    "# Multiple Inheritance : "
   ]
  },
  {
   "cell_type": "code",
   "execution_count": 23,
   "id": "8477d5cf",
   "metadata": {},
   "outputs": [],
   "source": [
    "# parent class 1\n",
    "class Parent1:\n",
    "    def assign1(self,str1):\n",
    "        self.str1=str1\n",
    "    def show1(self):\n",
    "        return self.str1"
   ]
  },
  {
   "cell_type": "code",
   "execution_count": 24,
   "id": "0a152a1f",
   "metadata": {},
   "outputs": [],
   "source": [
    "# parent class 2\n",
    "class Parent2:\n",
    "    def assign2(self,str2):\n",
    "        self.str2=str2\n",
    "    def show2(self):\n",
    "        return self.str2"
   ]
  },
  {
   "cell_type": "code",
   "execution_count": 25,
   "id": "1a6042c5",
   "metadata": {},
   "outputs": [],
   "source": [
    "# child class\n",
    "class Child(Parent1,Parent2):\n",
    "    def assign3(self,str3):\n",
    "        self.str3=str3\n",
    "    def show3(self):\n",
    "        return self.str3\n",
    "    "
   ]
  },
  {
   "cell_type": "code",
   "execution_count": 26,
   "id": "01fc944d",
   "metadata": {},
   "outputs": [],
   "source": [
    "c1=Child()"
   ]
  },
  {
   "cell_type": "code",
   "execution_count": 27,
   "id": "3ae972b5",
   "metadata": {},
   "outputs": [],
   "source": [
    "c1.assign1(\"megha\")\n",
    "c1.assign2(\"shivam\")\n",
    "c1.assign3(\"anand\")"
   ]
  },
  {
   "cell_type": "code",
   "execution_count": 28,
   "id": "c2a3e98e",
   "metadata": {},
   "outputs": [
    {
     "data": {
      "text/plain": [
       "'megha'"
      ]
     },
     "execution_count": 28,
     "metadata": {},
     "output_type": "execute_result"
    }
   ],
   "source": [
    "c1.show1()"
   ]
  },
  {
   "cell_type": "code",
   "execution_count": 29,
   "id": "52050fac",
   "metadata": {},
   "outputs": [
    {
     "data": {
      "text/plain": [
       "'shivam'"
      ]
     },
     "execution_count": 29,
     "metadata": {},
     "output_type": "execute_result"
    }
   ],
   "source": [
    "c1.show2()"
   ]
  },
  {
   "cell_type": "code",
   "execution_count": 30,
   "id": "059a07f6",
   "metadata": {},
   "outputs": [
    {
     "data": {
      "text/plain": [
       "'anand'"
      ]
     },
     "execution_count": 30,
     "metadata": {},
     "output_type": "execute_result"
    }
   ],
   "source": [
    "c1.show3()"
   ]
  },
  {
   "cell_type": "code",
   "execution_count": 31,
   "id": "629f382f",
   "metadata": {},
   "outputs": [],
   "source": [
    "# Hierarchical Inheritance: When more than one derived classes are created from a single base class\n",
    "# this type of inheritance is known as Hierarchical Inheritance."
   ]
  },
  {
   "cell_type": "code",
   "execution_count": 32,
   "id": "558abc5c",
   "metadata": {},
   "outputs": [],
   "source": [
    "# Parent class\n",
    "class Parent:\n",
    "    def func1(self):\n",
    "        print('This is parent class')\n",
    "        \n",
    "# child 1\n",
    "class Child1(Parent):\n",
    "    def func2(self):\n",
    "        print('This is child1')\n",
    "\n",
    "# child2\n",
    "class Child2(Parent):\n",
    "    def func3(self):\n",
    "        print('I am second child')\n",
    "        \n",
    "# Object creation\n",
    "obj1 = Child1()\n",
    "obj2 = Child2()"
   ]
  },
  {
   "cell_type": "code",
   "execution_count": 33,
   "id": "f08b07fa",
   "metadata": {},
   "outputs": [
    {
     "name": "stdout",
     "output_type": "stream",
     "text": [
      "This is parent class\n"
     ]
    }
   ],
   "source": [
    "# invoking methods\n",
    "obj1.func1()"
   ]
  },
  {
   "cell_type": "code",
   "execution_count": 34,
   "id": "cb79a4ac",
   "metadata": {},
   "outputs": [
    {
     "name": "stdout",
     "output_type": "stream",
     "text": [
      "This is parent class\n"
     ]
    }
   ],
   "source": [
    "obj2.func1()"
   ]
  },
  {
   "cell_type": "code",
   "execution_count": 35,
   "id": "00b5e855",
   "metadata": {},
   "outputs": [
    {
     "name": "stdout",
     "output_type": "stream",
     "text": [
      "This is child1\n"
     ]
    }
   ],
   "source": [
    "obj1.func2()"
   ]
  },
  {
   "cell_type": "code",
   "execution_count": 36,
   "id": "0dd6e7f2",
   "metadata": {},
   "outputs": [
    {
     "name": "stdout",
     "output_type": "stream",
     "text": [
      "I am second child\n"
     ]
    }
   ],
   "source": [
    "obj2.func3()"
   ]
  },
  {
   "cell_type": "code",
   "execution_count": 37,
   "id": "5d4e4b64",
   "metadata": {},
   "outputs": [],
   "source": [
    "# Hybrid Inheritance : Inheritance consisting of multiple types of inheritance is known as Hybrid Inheritance"
   ]
  },
  {
   "cell_type": "code",
   "execution_count": 38,
   "id": "a74986f7",
   "metadata": {},
   "outputs": [
    {
     "name": "stdout",
     "output_type": "stream",
     "text": [
      "This is student1\n",
      "This is student2\n"
     ]
    }
   ],
   "source": [
    "class School:\n",
    "    def func1(self):\n",
    "        print('This is school')\n",
    "        \n",
    "class Student1(School):\n",
    "    def func2(self):\n",
    "        print('This is student1')\n",
    "        \n",
    "class Student2(School):\n",
    "    def func3(self):\n",
    "        print('This is student2')\n",
    "        \n",
    "class Student3(Student1, Student2):\n",
    "    def func4(self):\n",
    "        printf('This is student3')\n",
    "        \n",
    "obj =  Student3()\n",
    "obj.func2()\n",
    "obj.func3()"
   ]
  },
  {
   "cell_type": "code",
   "execution_count": null,
   "id": "c65c023b",
   "metadata": {},
   "outputs": [],
   "source": []
  }
 ],
 "metadata": {
  "kernelspec": {
   "display_name": "Python 3 (ipykernel)",
   "language": "python",
   "name": "python3"
  },
  "language_info": {
   "codemirror_mode": {
    "name": "ipython",
    "version": 3
   },
   "file_extension": ".py",
   "mimetype": "text/x-python",
   "name": "python",
   "nbconvert_exporter": "python",
   "pygments_lexer": "ipython3",
   "version": "3.9.7"
  }
 },
 "nbformat": 4,
 "nbformat_minor": 5
}
