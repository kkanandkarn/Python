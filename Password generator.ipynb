{
 "cells": [
  {
   "cell_type": "code",
   "execution_count": 12,
   "id": "25c88c2c",
   "metadata": {},
   "outputs": [],
   "source": [
    "import random\n",
    "import string"
   ]
  },
  {
   "cell_type": "code",
   "execution_count": 9,
   "id": "33db836c",
   "metadata": {},
   "outputs": [
    {
     "data": {
      "text/plain": [
       "'1340'"
      ]
     },
     "execution_count": 9,
     "metadata": {},
     "output_type": "execute_result"
    }
   ],
   "source": [
    "''.join([str(random.randint(0,9)) for i in range(4)])"
   ]
  },
  {
   "cell_type": "code",
   "execution_count": 25,
   "id": "abd68e13",
   "metadata": {},
   "outputs": [],
   "source": [
    "def main():\n",
    "    length=int(input(\"Enter the length of password you want:\"))\n",
    "    lower=string.ascii_lowercase\n",
    "    upper=string.ascii_uppercase\n",
    "    digit=string.digits\n",
    "    symbols=string.punctuation\n",
    "    combine=lower+upper+digit+symbols\n",
    "    password=\"\".join(random.sample(combine,length))\n",
    "    print(password)\n",
    "    main()"
   ]
  },
  {
   "cell_type": "code",
   "execution_count": null,
   "id": "8cdbc0aa",
   "metadata": {},
   "outputs": [
    {
     "name": "stdout",
     "output_type": "stream",
     "text": [
      "Enter the length of password you want:6\n",
      "o\\m^k2\n",
      "Enter the length of password you want:4\n",
      "&=Dr\n",
      "Enter the length of password you want:9\n",
      "H#Z0~;e[!\n",
      "Enter the length of password you want:1\n",
      ";\n",
      "Enter the length of password you want:1\n",
      ",\n",
      "Enter the length of password you want:9\n",
      "EAqT0Ua>v\n"
     ]
    }
   ],
   "source": [
    "main()"
   ]
  },
  {
   "cell_type": "code",
   "execution_count": null,
   "id": "2feceff2",
   "metadata": {},
   "outputs": [],
   "source": []
  }
 ],
 "metadata": {
  "kernelspec": {
   "display_name": "Python 3 (ipykernel)",
   "language": "python",
   "name": "python3"
  },
  "language_info": {
   "codemirror_mode": {
    "name": "ipython",
    "version": 3
   },
   "file_extension": ".py",
   "mimetype": "text/x-python",
   "name": "python",
   "nbconvert_exporter": "python",
   "pygments_lexer": "ipython3",
   "version": "3.9.7"
  }
 },
 "nbformat": 4,
 "nbformat_minor": 5
}
